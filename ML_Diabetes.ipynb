{
 "cells": [
  {
   "cell_type": "markdown",
   "id": "182c5a03-627b-4a7b-85ec-d4112f0dc85d",
   "metadata": {},
   "source": [
    "# Machine Learning Diabetes Classification"
   ]
  },
  {
   "cell_type": "markdown",
   "id": "2443d871-6db0-48bb-ab11-0603bae3313c",
   "metadata": {},
   "source": [
    "## Read csv and perform basic data cleaning"
   ]
  },
  {
   "cell_type": "code",
   "execution_count": 1,
   "id": "ad70e763-65da-49fe-b303-57534697fdef",
   "metadata": {},
   "outputs": [],
   "source": [
    "# Install zipfile36 if you haven't already\n",
    "#!pip install zipfile36"
   ]
  },
  {
   "cell_type": "code",
   "execution_count": 2,
   "id": "59179824-61bb-428a-a1d0-f511db081b84",
   "metadata": {},
   "outputs": [],
   "source": [
    "# Import our dependencies\n",
    "from sklearn.model_selection import train_test_split\n",
    "from sklearn.preprocessing import StandardScaler\n",
    "from sklearn.metrics import accuracy_score\n",
    "import pandas as pd\n",
    "import numpy as np\n",
    "import tensorflow as tf\n",
    "from io import BytesIO\n",
    "from zipfile import ZipFile\n",
    "from urllib.request import urlopen"
   ]
  },
  {
   "cell_type": "code",
   "execution_count": 3,
   "id": "2f059d24-d934-4829-b24b-296032ccdfa6",
   "metadata": {},
   "outputs": [],
   "source": [
    "# Create dataframe\n",
    "z = urlopen('https://archive.ics.uci.edu/ml/machine-learning-databases/00296/dataset_diabetes.zip')\n",
    "myzip = ZipFile(BytesIO(z.read())).extract('dataset_diabetes/diabetic_data.csv')\n",
    "df = pd.read_csv(myzip)\n",
    "df.head(5)\n",
    "target = ['A1Cresult']"
   ]
  },
  {
   "cell_type": "code",
   "execution_count": 4,
   "id": "b34b6689-2de7-46a0-8c05-5e01c01e99e7",
   "metadata": {},
   "outputs": [
    {
     "name": "stderr",
     "output_type": "stream",
     "text": [
      "/var/folders/xg/sj5cjcj55mdf6d5492q3c5m00000gn/T/ipykernel_98180/4003175041.py:2: FutureWarning: In a future version of pandas all arguments of DataFrame.drop except for the argument 'labels' will be keyword-only\n",
      "  df = df.drop(['encounter_id','patient_nbr'],1)\n",
      "/var/folders/xg/sj5cjcj55mdf6d5492q3c5m00000gn/T/ipykernel_98180/4003175041.py:5: FutureWarning: In a future version of pandas all arguments of DataFrame.drop except for the argument 'labels' will be keyword-only\n",
      "  df = df.drop(['weight', 'payer_code', 'max_glu_serum', 'medical_specialty'],1)\n"
     ]
    }
   ],
   "source": [
    "# Drop the non-beneficial ID columns, 'encounter_id' and 'patient_nbr'\n",
    "df = df.drop(['encounter_id','patient_nbr'],1)\n",
    "\n",
    "# Drop mostly empty columns, 'weight', 'payer_code', 'max_glu_serum', and 'medical_specialty'\n",
    "df = df.drop(['weight', 'payer_code', 'max_glu_serum', 'medical_specialty'],1)\n",
    "\n",
    "# Replace '?' values to nulls\n",
    "df.replace({'?': np.nan}, inplace=True)\n",
    "\n",
    "# Replace 'None' values to nulls\n",
    "df.replace({'None': np.nan}, inplace=True)\n",
    "\n",
    "# Drop the null rows\n",
    "df = df.dropna()"
   ]
  },
  {
   "cell_type": "code",
   "execution_count": 5,
   "id": "5150ac9f-2499-4067-93d8-f243e9b3cadd",
   "metadata": {},
   "outputs": [],
   "source": [
    "# Convert the target column values to normal and high based on their values\n",
    "x = {'Norm': 'low'}   \n",
    "df = df.replace(x)\n",
    "x = dict.fromkeys(['>7', '>8'], 'high')    \n",
    "df = df.replace(x)\n",
    "df.reset_index(inplace=True, drop=True)"
   ]
  },
  {
   "cell_type": "code",
   "execution_count": 6,
   "id": "2d434e63-be18-4cfd-97d3-af27d9bfbe36",
   "metadata": {},
   "outputs": [
    {
     "data": {
      "text/plain": [
       "race                          5\n",
       "gender                        2\n",
       "age                          10\n",
       "admission_type_id             8\n",
       "discharge_disposition_id     21\n",
       "admission_source_id          15\n",
       "time_in_hospital             14\n",
       "num_lab_procedures          114\n",
       "num_procedures                7\n",
       "num_medications              67\n",
       "number_outpatient            24\n",
       "number_emergency             19\n",
       "number_inpatient             18\n",
       "diag_1                      490\n",
       "diag_2                      486\n",
       "diag_3                      539\n",
       "number_diagnoses             12\n",
       "A1Cresult                     2\n",
       "metformin                     4\n",
       "repaglinide                   4\n",
       "nateglinide                   4\n",
       "chlorpropamide                2\n",
       "glimepiride                   4\n",
       "acetohexamide                 1\n",
       "glipizide                     4\n",
       "glyburide                     4\n",
       "tolbutamide                   2\n",
       "pioglitazone                  4\n",
       "rosiglitazone                 4\n",
       "acarbose                      4\n",
       "miglitol                      4\n",
       "troglitazone                  1\n",
       "tolazamide                    3\n",
       "examide                       1\n",
       "citoglipton                   1\n",
       "insulin                       4\n",
       "glyburide-metformin           4\n",
       "glipizide-metformin           2\n",
       "glimepiride-pioglitazone      1\n",
       "metformin-rosiglitazone       1\n",
       "metformin-pioglitazone        1\n",
       "change                        2\n",
       "diabetesMed                   2\n",
       "readmitted                    3\n",
       "dtype: int64"
      ]
     },
     "execution_count": 6,
     "metadata": {},
     "output_type": "execute_result"
    }
   ],
   "source": [
    "# Determine the number of unique values in each column.\n",
    "df.nunique()"
   ]
  },
  {
   "cell_type": "code",
   "execution_count": 7,
   "id": "6f34de39-a90e-4fab-9b7d-3b35c2970969",
   "metadata": {},
   "outputs": [
    {
     "name": "stderr",
     "output_type": "stream",
     "text": [
      "/var/folders/xg/sj5cjcj55mdf6d5492q3c5m00000gn/T/ipykernel_98180/190791345.py:2: FutureWarning: In a future version of pandas all arguments of DataFrame.drop except for the argument 'labels' will be keyword-only\n",
      "  df = df.drop(['acetohexamide', 'troglitazone', 'examide', 'citoglipton','glimepiride-pioglitazone', 'metformin-rosiglitazone', 'metformin-pioglitazone'],1)\n"
     ]
    },
    {
     "data": {
      "text/plain": [
       "race                          5\n",
       "gender                        2\n",
       "age                          10\n",
       "admission_type_id             8\n",
       "discharge_disposition_id     21\n",
       "admission_source_id          15\n",
       "time_in_hospital             14\n",
       "num_lab_procedures          114\n",
       "num_procedures                7\n",
       "num_medications              67\n",
       "number_outpatient            24\n",
       "number_emergency             19\n",
       "number_inpatient             18\n",
       "diag_1                      490\n",
       "diag_2                      486\n",
       "diag_3                      539\n",
       "number_diagnoses             12\n",
       "A1Cresult                     2\n",
       "metformin                     4\n",
       "repaglinide                   4\n",
       "nateglinide                   4\n",
       "chlorpropamide                2\n",
       "glimepiride                   4\n",
       "glipizide                     4\n",
       "glyburide                     4\n",
       "tolbutamide                   2\n",
       "pioglitazone                  4\n",
       "rosiglitazone                 4\n",
       "acarbose                      4\n",
       "miglitol                      4\n",
       "tolazamide                    3\n",
       "insulin                       4\n",
       "glyburide-metformin           4\n",
       "glipizide-metformin           2\n",
       "change                        2\n",
       "diabetesMed                   2\n",
       "readmitted                    3\n",
       "dtype: int64"
      ]
     },
     "execution_count": 7,
     "metadata": {},
     "output_type": "execute_result"
    }
   ],
   "source": [
    "# Drop columns with only 1 value\n",
    "df = df.drop(['acetohexamide', 'troglitazone', 'examide', 'citoglipton','glimepiride-pioglitazone', 'metformin-rosiglitazone', 'metformin-pioglitazone'],1)\n",
    "df.nunique()"
   ]
  },
  {
   "cell_type": "code",
   "execution_count": null,
   "id": "75fea383-a8b3-4da7-bf17-bfe0b2d58d0b",
   "metadata": {},
   "outputs": [],
   "source": []
  }
 ],
 "metadata": {
  "kernelspec": {
   "display_name": "Python 3 (ipykernel)",
   "language": "python",
   "name": "python3"
  },
  "language_info": {
   "codemirror_mode": {
    "name": "ipython",
    "version": 3
   },
   "file_extension": ".py",
   "mimetype": "text/x-python",
   "name": "python",
   "nbconvert_exporter": "python",
   "pygments_lexer": "ipython3",
   "version": "3.9.5"
  }
 },
 "nbformat": 4,
 "nbformat_minor": 5
}
