{
 "cells": [
  {
   "cell_type": "markdown",
   "id": "182c5a03-627b-4a7b-85ec-d4112f0dc85d",
   "metadata": {},
   "source": [
    "# Machine Learning Diabetes Classification"
   ]
  },
  {
   "cell_type": "markdown",
   "id": "2443d871-6db0-48bb-ab11-0603bae3313c",
   "metadata": {},
   "source": [
    "## Read csv and perform basic data cleaning"
   ]
  },
  {
   "cell_type": "code",
   "execution_count": 6,
   "id": "ad70e763-65da-49fe-b303-57534697fdef",
   "metadata": {},
   "outputs": [],
   "source": [
    "# Install zipfile36 if you haven't already\n",
    "#!pip install zipfile36"
   ]
  },
  {
   "cell_type": "code",
   "execution_count": 42,
   "id": "59179824-61bb-428a-a1d0-f511db081b84",
   "metadata": {},
   "outputs": [],
   "source": [
    "# Import our dependencies\n",
    "from sklearn.model_selection import train_test_split\n",
    "from sklearn.preprocessing import StandardScaler\n",
    "from sklearn.metrics import accuracy_score\n",
    "import pandas as pd\n",
    "import numpy as np\n",
    "import tensorflow as tf\n",
    "from io import BytesIO\n",
    "from zipfile import ZipFile\n",
    "from urllib.request import urlopen"
   ]
  },
  {
   "cell_type": "code",
   "execution_count": 47,
   "id": "2f059d24-d934-4829-b24b-296032ccdfa6",
   "metadata": {},
   "outputs": [],
   "source": [
    "# Create dataframe\n",
    "z = urlopen('https://archive.ics.uci.edu/ml/machine-learning-databases/00296/dataset_diabetes.zip')\n",
    "myzip = ZipFile(BytesIO(z.read())).extract('dataset_diabetes/diabetic_data.csv')\n",
    "df = pd.read_csv(myzip)\n",
    "df.head(5)\n",
    "target = ['A1Cresult']"
   ]
  },
  {
   "cell_type": "code",
   "execution_count": 48,
   "id": "b34b6689-2de7-46a0-8c05-5e01c01e99e7",
   "metadata": {},
   "outputs": [
    {
     "name": "stderr",
     "output_type": "stream",
     "text": [
      "/var/folders/xg/sj5cjcj55mdf6d5492q3c5m00000gn/T/ipykernel_93593/2422726572.py:2: FutureWarning: In a future version of pandas all arguments of DataFrame.drop except for the argument 'labels' will be keyword-only\n",
      "  df = df.drop(['encounter_id','patient_nbr'],1)\n",
      "/var/folders/xg/sj5cjcj55mdf6d5492q3c5m00000gn/T/ipykernel_93593/2422726572.py:5: FutureWarning: In a future version of pandas all arguments of DataFrame.drop except for the argument 'labels' will be keyword-only\n",
      "  df = df.drop(['weight', 'payer_code', 'max_glu_serum', 'medical_specialty'],1)\n"
     ]
    }
   ],
   "source": [
    "# Drop the non-beneficial ID columns, 'encounter_id' and 'patient_nbr'\n",
    "df = df.drop(['encounter_id','patient_nbr'],1)\n",
    "\n",
    "# Drop mostly empty columns, 'weight', 'payer_code', 'max_glu_serum', and 'medical_specialty'\n",
    "df = df.drop(['weight', 'payer_code', 'max_glu_serum', 'medical_specialty'],1)\n",
    "\n",
    "# Replace '?' values to nulls\n",
    "df.replace({'?': np.nan}, inplace=True)\n",
    "\n",
    "# Drop the null rows\n",
    "df = df.dropna()\n",
    "\n",
    "# Drop rows where A1c status is 'None'\n",
    "df = df[df.A1Cresult != 'None']"
   ]
  },
  {
   "cell_type": "code",
   "execution_count": 49,
   "id": "5150ac9f-2499-4067-93d8-f243e9b3cadd",
   "metadata": {},
   "outputs": [],
   "source": [
    "# Convert the target column values to normal and high based on their values\n",
    "x = {'Norm': 'low'}   \n",
    "df = df.replace(x)\n",
    "x = dict.fromkeys(['>7', '>8'], 'high')    \n",
    "df = df.replace(x)\n",
    "df.reset_index(inplace=True, drop=True)"
   ]
  },
  {
   "cell_type": "code",
   "execution_count": 50,
   "id": "2d434e63-be18-4cfd-97d3-af27d9bfbe36",
   "metadata": {},
   "outputs": [
    {
     "data": {
      "text/plain": [
       "<bound method DataFrame.info of                   race  gender      age  admission_type_id  \\\n",
       "0            Caucasian    Male  [80-90)                  1   \n",
       "1            Caucasian  Female  [70-80)                  1   \n",
       "2                Other  Female  [50-60)                  1   \n",
       "3            Caucasian    Male  [60-70)                  1   \n",
       "4            Caucasian  Female  [80-90)                  1   \n",
       "...                ...     ...      ...                ...   \n",
       "16188        Caucasian  Female  [70-80)                  3   \n",
       "16189        Caucasian    Male  [70-80)                  3   \n",
       "16190        Caucasian  Female  [70-80)                  1   \n",
       "16191            Other  Female  [40-50)                  1   \n",
       "16192  AfricanAmerican    Male  [70-80)                  1   \n",
       "\n",
       "       discharge_disposition_id  admission_source_id  time_in_hospital  \\\n",
       "0                             3                    7                 6   \n",
       "1                             3                    7                 5   \n",
       "2                             1                    7                 2   \n",
       "3                             2                    7                 1   \n",
       "4                             1                    7                 3   \n",
       "...                         ...                  ...               ...   \n",
       "16188                         6                    1                 3   \n",
       "16189                         6                    1                13   \n",
       "16190                         1                    7                 9   \n",
       "16191                         1                    7                14   \n",
       "16192                         3                    7                 3   \n",
       "\n",
       "       num_lab_procedures  num_procedures  num_medications  ...  citoglipton  \\\n",
       "0                      64               3               18  ...           No   \n",
       "1                      34               0               17  ...           No   \n",
       "2                      53               0                6  ...           No   \n",
       "3                      59               0               12  ...           No   \n",
       "4                      34               0               11  ...           No   \n",
       "...                   ...             ...              ...  ...          ...   \n",
       "16188                  27               1               29  ...           No   \n",
       "16189                  77               6               65  ...           No   \n",
       "16190                  50               2               33  ...           No   \n",
       "16191                  73               6               26  ...           No   \n",
       "16192                  51               0               16  ...           No   \n",
       "\n",
       "       insulin  glyburide-metformin glipizide-metformin  \\\n",
       "0           No                   No                  No   \n",
       "1           Up                   No                  No   \n",
       "2           Up                   No                  No   \n",
       "3       Steady                   No                  No   \n",
       "4           No                   No                  No   \n",
       "...        ...                  ...                 ...   \n",
       "16188   Steady                   No                  No   \n",
       "16189       Up                   No                  No   \n",
       "16190   Steady                   No                  No   \n",
       "16191       Up                   No                  No   \n",
       "16192     Down                   No                  No   \n",
       "\n",
       "      glimepiride-pioglitazone metformin-rosiglitazone  \\\n",
       "0                           No                      No   \n",
       "1                           No                      No   \n",
       "2                           No                      No   \n",
       "3                           No                      No   \n",
       "4                           No                      No   \n",
       "...                        ...                     ...   \n",
       "16188                       No                      No   \n",
       "16189                       No                      No   \n",
       "16190                       No                      No   \n",
       "16191                       No                      No   \n",
       "16192                       No                      No   \n",
       "\n",
       "       metformin-pioglitazone change diabetesMed readmitted  \n",
       "0                          No     Ch         Yes         NO  \n",
       "1                          No     Ch         Yes        >30  \n",
       "2                          No     Ch         Yes         NO  \n",
       "3                          No     No         Yes         NO  \n",
       "4                          No     No          No        >30  \n",
       "...                       ...    ...         ...        ...  \n",
       "16188                      No     Ch         Yes         NO  \n",
       "16189                      No     Ch         Yes         NO  \n",
       "16190                      No     Ch         Yes        >30  \n",
       "16191                      No     Ch         Yes        >30  \n",
       "16192                      No     Ch         Yes        >30  \n",
       "\n",
       "[16193 rows x 44 columns]>"
      ]
     },
     "execution_count": 50,
     "metadata": {},
     "output_type": "execute_result"
    }
   ],
   "source": [
    "df.info"
   ]
  },
  {
   "cell_type": "code",
   "execution_count": null,
   "id": "6f34de39-a90e-4fab-9b7d-3b35c2970969",
   "metadata": {},
   "outputs": [],
   "source": []
  }
 ],
 "metadata": {
  "kernelspec": {
   "display_name": "Python 3 (ipykernel)",
   "language": "python",
   "name": "python3"
  },
  "language_info": {
   "codemirror_mode": {
    "name": "ipython",
    "version": 3
   },
   "file_extension": ".py",
   "mimetype": "text/x-python",
   "name": "python",
   "nbconvert_exporter": "python",
   "pygments_lexer": "ipython3",
   "version": "3.9.5"
  }
 },
 "nbformat": 4,
 "nbformat_minor": 5
}
