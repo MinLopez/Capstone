{
cells: [
{
cell_type: "markdown",
id: "182c5a03-627b-4a7b-85ec-d4112f0dc85d",
metadata: { },
source: [
"# Machine Learning Diabetes Classification"
]
},
{
cell_type: "markdown",
id: "2443d871-6db0-48bb-ab11-0603bae3313c",
metadata: { },
source: [
"## Read csv and perform basic data cleaning"
]
},
{
cell_type: "code",
execution_count: 1,
id: "ad70e763-65da-49fe-b303-57534697fdef",
metadata: { },
outputs: [ ],
source: [
"# Install zipfile36 if you haven't already
",
"#!pip install zipfile36"
]
},
{
cell_type: "code",
execution_count: 2,
id: "59179824-61bb-428a-a1d0-f511db081b84",
metadata: { },
outputs: [ ],
source: [
"# Import our dependencies
",
"import pandas as pd
",
"import numpy as np
",
"from io import BytesIO
",
"from zipfile import ZipFile
",
"from urllib.request import urlopen
",
"
",
"# SQL
",
"from sqlalchemy import create_engine
",
"import sqlite3 as sql
",
"
",
"# Machine learning
",
"from sklearn.model_selection import train_test_split
",
"from sklearn.preprocessing import StandardScaler
",
"from sklearn.metrics import accuracy_score
",
"import tensorflow as tf"
]
},
{
cell_type: "code",
execution_count: 3,
id: "2f059d24-d934-4829-b24b-296032ccdfa6",
metadata: { },
outputs: [
{
data: {
text/html: [
"<div>
",
"<style scoped>
",
"    .dataframe tbody tr th:only-of-type {
",
"        vertical-align: middle;
",
"    }
",
"
",
"    .dataframe tbody tr th {
",
"        vertical-align: top;
",
"    }
",
"
",
"    .dataframe thead th {
",
"        text-align: right;
",
"    }
",
"</style>
",
"<table border="1" class="dataframe">
",
"  <thead>
",
"    <tr style="text-align: right;">
",
"      <th></th>
",
"      <th>encounter_id</th>
",
"      <th>patient_nbr</th>
",
"      <th>race</th>
",
"      <th>gender</th>
",
"      <th>age</th>
",
"      <th>weight</th>
",
"      <th>admission_type_id</th>
",
"      <th>discharge_disposition_id</th>
",
"      <th>admission_source_id</th>
",
"      <th>time_in_hospital</th>
",
"      <th>...</th>
",
"      <th>citoglipton</th>
",
"      <th>insulin</th>
",
"      <th>glyburide-metformin</th>
",
"      <th>glipizide-metformin</th>
",
"      <th>glimepiride-pioglitazone</th>
",
"      <th>metformin-rosiglitazone</th>
",
"      <th>metformin-pioglitazone</th>
",
"      <th>change</th>
",
"      <th>diabetesMed</th>
",
"      <th>readmitted</th>
",
"    </tr>
",
"  </thead>
",
"  <tbody>
",
"    <tr>
",
"      <th>0</th>
",
"      <td>2278392</td>
",
"      <td>8222157</td>
",
"      <td>Caucasian</td>
",
"      <td>Female</td>
",
"      <td>[0-10)</td>
",
"      <td>?</td>
",
"      <td>6</td>
",
"      <td>25</td>
",
"      <td>1</td>
",
"      <td>1</td>
",
"      <td>...</td>
",
"      <td>No</td>
",
"      <td>No</td>
",
"      <td>No</td>
",
"      <td>No</td>
",
"      <td>No</td>
",
"      <td>No</td>
",
"      <td>No</td>
",
"      <td>No</td>
",
"      <td>No</td>
",
"      <td>NO</td>
",
"    </tr>
",
"    <tr>
",
"      <th>1</th>
",
"      <td>149190</td>
",
"      <td>55629189</td>
",
"      <td>Caucasian</td>
",
"      <td>Female</td>
",
"      <td>[10-20)</td>
",
"      <td>?</td>
",
"      <td>1</td>
",
"      <td>1</td>
",
"      <td>7</td>
",
"      <td>3</td>
",
"      <td>...</td>
",
"      <td>No</td>
",
"      <td>Up</td>
",
"      <td>No</td>
",
"      <td>No</td>
",
"      <td>No</td>
",
"      <td>No</td>
",
"      <td>No</td>
",
"      <td>Ch</td>
",
"      <td>Yes</td>
",
"      <td>&gt;30</td>
",
"    </tr>
",
"    <tr>
",
"      <th>2</th>
",
"      <td>64410</td>
",
"      <td>86047875</td>
",
"      <td>AfricanAmerican</td>
",
"      <td>Female</td>
",
"      <td>[20-30)</td>
",
"      <td>?</td>
",
"      <td>1</td>
",
"      <td>1</td>
",
"      <td>7</td>
",
"      <td>2</td>
",
"      <td>...</td>
",
"      <td>No</td>
",
"      <td>No</td>
",
"      <td>No</td>
",
"      <td>No</td>
",
"      <td>No</td>
",
"      <td>No</td>
",
"      <td>No</td>
",
"      <td>No</td>
",
"      <td>Yes</td>
",
"      <td>NO</td>
",
"    </tr>
",
"    <tr>
",
"      <th>3</th>
",
"      <td>500364</td>
",
"      <td>82442376</td>
",
"      <td>Caucasian</td>
",
"      <td>Male</td>
",
"      <td>[30-40)</td>
",
"      <td>?</td>
",
"      <td>1</td>
",
"      <td>1</td>
",
"      <td>7</td>
",
"      <td>2</td>
",
"      <td>...</td>
",
"      <td>No</td>
",
"      <td>Up</td>
",
"      <td>No</td>
",
"      <td>No</td>
",
"      <td>No</td>
",
"      <td>No</td>
",
"      <td>No</td>
",
"      <td>Ch</td>
",
"      <td>Yes</td>
",
"      <td>NO</td>
",
"    </tr>
",
"    <tr>
",
"      <th>4</th>
",
"      <td>16680</td>
",
"      <td>42519267</td>
",
"      <td>Caucasian</td>
",
"      <td>Male</td>
",
"      <td>[40-50)</td>
",
"      <td>?</td>
",
"      <td>1</td>
",
"      <td>1</td>
",
"      <td>7</td>
",
"      <td>1</td>
",
"      <td>...</td>
",
"      <td>No</td>
",
"      <td>Steady</td>
",
"      <td>No</td>
",
"      <td>No</td>
",
"      <td>No</td>
",
"      <td>No</td>
",
"      <td>No</td>
",
"      <td>Ch</td>
",
"      <td>Yes</td>
",
"      <td>NO</td>
",
"    </tr>
",
"  </tbody>
",
"</table>
",
"<p>5 rows × 50 columns</p>
",
"</div>"
],
text/plain: [
"   encounter_id  patient_nbr             race  gender      age weight  \
",
"0       2278392      8222157        Caucasian  Female   [0-10)      ?   
",
"1        149190     55629189        Caucasian  Female  [10-20)      ?   
",
"2         64410     86047875  AfricanAmerican  Female  [20-30)      ?   
",
"3        500364     82442376        Caucasian    Male  [30-40)      ?   
",
"4         16680     42519267        Caucasian    Male  [40-50)      ?   
",
"
",
"   admission_type_id  discharge_disposition_id  admission_source_id  \
",
"0                  6                        25                    1   
",
"1                  1                         1                    7   
",
"2                  1                         1                    7   
",
"3                  1                         1                    7   
",
"4                  1                         1                    7   
",
"
",
"   time_in_hospital  ... citoglipton insulin  glyburide-metformin  \
",
"0                 1  ...          No      No                   No   
",
"1                 3  ...          No      Up                   No   
",
"2                 2  ...          No      No                   No   
",
"3                 2  ...          No      Up                   No   
",
"4                 1  ...          No  Steady                   No   
",
"
",
"   glipizide-metformin  glimepiride-pioglitazone  metformin-rosiglitazone  \
",
"0                   No                        No                       No   
",
"1                   No                        No                       No   
",
"2                   No                        No                       No   
",
"3                   No                        No                       No   
",
"4                   No                        No                       No   
",
"
",
"   metformin-pioglitazone  change diabetesMed readmitted  
",
"0                      No      No          No         NO  
",
"1                      No      Ch         Yes        >30  
",
"2                      No      No         Yes         NO  
",
"3                      No      Ch         Yes         NO  
",
"4                      No      Ch         Yes         NO  
",
"
",
"[5 rows x 50 columns]"
]
},
execution_count: 3,
metadata: { },
output_type: "execute_result"
}
],
source: [
"# Create dataframe
",
"z = urlopen('https://archive.ics.uci.edu/ml/machine-learning-databases/00296/dataset_diabetes.zip')
",
"myzip = ZipFile(BytesIO(z.read())).extract('dataset_diabetes/diabetic_data.csv')
",
"df = pd.read_csv(myzip)
",
"df.head(5)"
]
},
{
cell_type: "code",
execution_count: 4,
id: "b34b6689-2de7-46a0-8c05-5e01c01e99e7",
metadata: { },
outputs: [
{
name: "stderr",
output_type: "stream",
text: [
"/var/folders/xg/sj5cjcj55mdf6d5492q3c5m00000gn/T/ipykernel_10415/3755464539.py:2: FutureWarning: In a future version of pandas all arguments of DataFrame.drop except for the argument 'labels' will be keyword-only
",
"  df = df.drop(['patient_nbr'],1)
",
"/var/folders/xg/sj5cjcj55mdf6d5492q3c5m00000gn/T/ipykernel_10415/3755464539.py:5: FutureWarning: In a future version of pandas all arguments of DataFrame.drop except for the argument 'labels' will be keyword-only
",
"  df = df.drop(['weight', 'payer_code', 'max_glu_serum', 'medical_specialty'],1)
"
]
}
],
source: [
"# Drop the non-beneficial ID column 'patient_nbr'
",
"df = df.drop(['patient_nbr'],1)
",
"
",
"# Drop mostly empty columns, 'weight', 'payer_code', 'max_glu_serum', and 'medical_specialty'
",
"df = df.drop(['weight', 'payer_code', 'max_glu_serum', 'medical_specialty'],1)
",
"
",
"# Replace '?' values to nulls
",
"df.replace({'?': np.nan}, inplace=True)
",
"
",
"# Replace 'None' values to nulls
",
"df.replace({'None': np.nan}, inplace=True)
",
"
",
"# Drop the null rows
",
"df = df.dropna()"
]
},
{
cell_type: "code",
execution_count: 5,
id: "5150ac9f-2499-4067-93d8-f243e9b3cadd",
metadata: { },
outputs: [ ],
source: [
"# Convert the target column values to normal and high based on their values
",
"x = {'Norm': 'low'}   
",
"df = df.replace(x)
",
"x = dict.fromkeys(['>7', '>8'], 'high')    
",
"df = df.replace(x)
",
"df.reset_index(inplace=True, drop=True)"
]
},
{
cell_type: "code",
execution_count: 6,
id: "2d434e63-be18-4cfd-97d3-af27d9bfbe36",
metadata: { },
outputs: [
{
data: {
text/plain: [
"encounter_id                16193
",
"race                            5
",
"gender                          2
",
"age                            10
",
"admission_type_id               8
",
"discharge_disposition_id       21
",
"admission_source_id            15
",
"time_in_hospital               14
",
"num_lab_procedures            114
",
"num_procedures                  7
",
"num_medications                67
",
"number_outpatient              24
",
"number_emergency               19
",
"number_inpatient               18
",
"diag_1                        490
",
"diag_2                        486
",
"diag_3                        539
",
"number_diagnoses               12
",
"A1Cresult                       2
",
"metformin                       4
",
"repaglinide                     4
",
"nateglinide                     4
",
"chlorpropamide                  2
",
"glimepiride                     4
",
"acetohexamide                   1
",
"glipizide                       4
",
"glyburide                       4
",
"tolbutamide                     2
",
"pioglitazone                    4
",
"rosiglitazone                   4
",
"acarbose                        4
",
"miglitol                        4
",
"troglitazone                    1
",
"tolazamide                      3
",
"examide                         1
",
"citoglipton                     1
",
"insulin                         4
",
"glyburide-metformin             4
",
"glipizide-metformin             2
",
"glimepiride-pioglitazone        1
",
"metformin-rosiglitazone         1
",
"metformin-pioglitazone          1
",
"change                          2
",
"diabetesMed                     2
",
"readmitted                      3
",
"dtype: int64"
]
},
execution_count: 6,
metadata: { },
output_type: "execute_result"
}
],
source: [
"# Determine the number of unique values in each column.
",
"df.nunique()"
]
},
{
cell_type: "code",
execution_count: 7,
id: "6f34de39-a90e-4fab-9b7d-3b35c2970969",
metadata: { },
outputs: [
{
name: "stderr",
output_type: "stream",
text: [
"/var/folders/xg/sj5cjcj55mdf6d5492q3c5m00000gn/T/ipykernel_10415/190791345.py:2: FutureWarning: In a future version of pandas all arguments of DataFrame.drop except for the argument 'labels' will be keyword-only
",
"  df = df.drop(['acetohexamide', 'troglitazone', 'examide', 'citoglipton','glimepiride-pioglitazone', 'metformin-rosiglitazone', 'metformin-pioglitazone'],1)
"
]
},
{
data: {
text/plain: [
"encounter_id                16193
",
"race                            5
",
"gender                          2
",
"age                            10
",
"admission_type_id               8
",
"discharge_disposition_id       21
",
"admission_source_id            15
",
"time_in_hospital               14
",
"num_lab_procedures            114
",
"num_procedures                  7
",
"num_medications                67
",
"number_outpatient              24
",
"number_emergency               19
",
"number_inpatient               18
",
"diag_1                        490
",
"diag_2                        486
",
"diag_3                        539
",
"number_diagnoses               12
",
"A1Cresult                       2
",
"metformin                       4
",
"repaglinide                     4
",
"nateglinide                     4
",
"chlorpropamide                  2
",
"glimepiride                     4
",
"glipizide                       4
",
"glyburide                       4
",
"tolbutamide                     2
",
"pioglitazone                    4
",
"rosiglitazone                   4
",
"acarbose                        4
",
"miglitol                        4
",
"tolazamide                      3
",
"insulin                         4
",
"glyburide-metformin             4
",
"glipizide-metformin             2
",
"change                          2
",
"diabetesMed                     2
",
"readmitted                      3
",
"dtype: int64"
]
},
execution_count: 7,
metadata: { },
output_type: "execute_result"
}
],
source: [
"# Drop columns with only 1 value
",
"df = df.drop(['acetohexamide', 'troglitazone', 'examide', 'citoglipton','glimepiride-pioglitazone', 'metformin-rosiglitazone', 'metformin-pioglitazone'],1)
",
"df.nunique()"
]
},
{
cell_type: "code",
execution_count: 26,
id: "8dce5967-bb76-4019-9a80-5712e678997a",
metadata: { },
outputs: [ ],
source: [
"# Create SQLite engine using SQLAlechmey
",
"engine = create_engine('sqlite:///diabetes_data.db', echo=False)
",
"conn = engine.connect()
",
"df.to_sql('diabetes', conn, index=False, if_exists='replace')"
]
},
{
cell_type: "code",
execution_count: 27,
id: "fb54b0c5-f1ec-418f-bd34-9782aa9ec869",
metadata: { },
outputs: [
{
data: {
text/html: [
"<div>
",
"<style scoped>
",
"    .dataframe tbody tr th:only-of-type {
",
"        vertical-align: middle;
",
"    }
",
"
",
"    .dataframe tbody tr th {
",
"        vertical-align: top;
",
"    }
",
"
",
"    .dataframe thead th {
",
"        text-align: right;
",
"    }
",
"</style>
",
"<table border="1" class="dataframe">
",
"  <thead>
",
"    <tr style="text-align: right;">
",
"      <th></th>
",
"      <th>encounter_id</th>
",
"      <th>race</th>
",
"      <th>gender</th>
",
"      <th>age</th>
",
"      <th>admission_type_id</th>
",
"      <th>discharge_disposition_id</th>
",
"      <th>admission_source_id</th>
",
"      <th>time_in_hospital</th>
",
"      <th>num_lab_procedures</th>
",
"      <th>num_procedures</th>
",
"      <th>...</th>
",
"      <th>rosiglitazone</th>
",
"      <th>acarbose</th>
",
"      <th>miglitol</th>
",
"      <th>tolazamide</th>
",
"      <th>insulin</th>
",
"      <th>glyburide-metformin</th>
",
"      <th>glipizide-metformin</th>
",
"      <th>change</th>
",
"      <th>diabetesMed</th>
",
"      <th>readmitted</th>
",
"    </tr>
",
"  </thead>
",
"  <tbody>
",
"    <tr>
",
"      <th>0</th>
",
"      <td>236316</td>
",
"      <td>Caucasian</td>
",
"      <td>Male</td>
",
"      <td>[80-90)</td>
",
"      <td>1</td>
",
"      <td>3</td>
",
"      <td>7</td>
",
"      <td>6</td>
",
"      <td>64</td>
",
"      <td>3</td>
",
"      <td>...</td>
",
"      <td>No</td>
",
"      <td>No</td>
",
"      <td>No</td>
",
"      <td>No</td>
",
"      <td>No</td>
",
"      <td>No</td>
",
"      <td>No</td>
",
"      <td>Ch</td>
",
"      <td>Yes</td>
",
"      <td>NO</td>
",
"    </tr>
",
"    <tr>
",
"      <th>1</th>
",
"      <td>955884</td>
",
"      <td>Caucasian</td>
",
"      <td>Female</td>
",
"      <td>[70-80)</td>
",
"      <td>1</td>
",
"      <td>3</td>
",
"      <td>7</td>
",
"      <td>5</td>
",
"      <td>34</td>
",
"      <td>0</td>
",
"      <td>...</td>
",
"      <td>No</td>
",
"      <td>No</td>
",
"      <td>No</td>
",
"      <td>No</td>
",
"      <td>Up</td>
",
"      <td>No</td>
",
"      <td>No</td>
",
"      <td>Ch</td>
",
"      <td>Yes</td>
",
"      <td>&gt;30</td>
",
"    </tr>
",
"    <tr>
",
"      <th>2</th>
",
"      <td>1257282</td>
",
"      <td>Other</td>
",
"      <td>Female</td>
",
"      <td>[50-60)</td>
",
"      <td>1</td>
",
"      <td>1</td>
",
"      <td>7</td>
",
"      <td>2</td>
",
"      <td>53</td>
",
"      <td>0</td>
",
"      <td>...</td>
",
"      <td>No</td>
",
"      <td>No</td>
",
"      <td>No</td>
",
"      <td>No</td>
",
"      <td>Up</td>
",
"      <td>No</td>
",
"      <td>No</td>
",
"      <td>Ch</td>
",
"      <td>Yes</td>
",
"      <td>NO</td>
",
"    </tr>
",
"    <tr>
",
"      <th>3</th>
",
"      <td>1270524</td>
",
"      <td>Caucasian</td>
",
"      <td>Male</td>
",
"      <td>[60-70)</td>
",
"      <td>1</td>
",
"      <td>2</td>
",
"      <td>7</td>
",
"      <td>1</td>
",
"      <td>59</td>
",
"      <td>0</td>
",
"      <td>...</td>
",
"      <td>No</td>
",
"      <td>No</td>
",
"      <td>No</td>
",
"      <td>No</td>
",
"      <td>Steady</td>
",
"      <td>No</td>
",
"      <td>No</td>
",
"      <td>No</td>
",
"      <td>Yes</td>
",
"      <td>NO</td>
",
"    </tr>
",
"    <tr>
",
"      <th>4</th>
",
"      <td>1455252</td>
",
"      <td>Caucasian</td>
",
"      <td>Female</td>
",
"      <td>[80-90)</td>
",
"      <td>1</td>
",
"      <td>1</td>
",
"      <td>7</td>
",
"      <td>3</td>
",
"      <td>34</td>
",
"      <td>0</td>
",
"      <td>...</td>
",
"      <td>No</td>
",
"      <td>No</td>
",
"      <td>No</td>
",
"      <td>No</td>
",
"      <td>No</td>
",
"      <td>No</td>
",
"      <td>No</td>
",
"      <td>No</td>
",
"      <td>No</td>
",
"      <td>&gt;30</td>
",
"    </tr>
",
"    <tr>
",
"      <th>5</th>
",
"      <td>1810752</td>
",
"      <td>Caucasian</td>
",
"      <td>Male</td>
",
"      <td>[70-80)</td>
",
"      <td>1</td>
",
"      <td>3</td>
",
"      <td>7</td>
",
"      <td>14</td>
",
"      <td>78</td>
",
"      <td>1</td>
",
"      <td>...</td>
",
"      <td>No</td>
",
"      <td>No</td>
",
"      <td>No</td>
",
"      <td>No</td>
",
"      <td>Up</td>
",
"      <td>No</td>
",
"      <td>No</td>
",
"      <td>Ch</td>
",
"      <td>Yes</td>
",
"      <td>&lt;30</td>
",
"    </tr>
",
"    <tr>
",
"      <th>6</th>
",
"      <td>1881372</td>
",
"      <td>Caucasian</td>
",
"      <td>Male</td>
",
"      <td>[60-70)</td>
",
"      <td>1</td>
",
"      <td>2</td>
",
"      <td>7</td>
",
"      <td>4</td>
",
"      <td>65</td>
",
"      <td>2</td>
",
"      <td>...</td>
",
"      <td>No</td>
",
"      <td>No</td>
",
"      <td>No</td>
",
"      <td>No</td>
",
"      <td>Steady</td>
",
"      <td>No</td>
",
"      <td>No</td>
",
"      <td>No</td>
",
"      <td>Yes</td>
",
"      <td>&lt;30</td>
",
"    </tr>
",
"    <tr>
",
"      <th>7</th>
",
"      <td>1968528</td>
",
"      <td>Caucasian</td>
",
"      <td>Female</td>
",
"      <td>[70-80)</td>
",
"      <td>6</td>
",
"      <td>25</td>
",
"      <td>1</td>
",
"      <td>10</td>
",
"      <td>56</td>
",
"      <td>2</td>
",
"      <td>...</td>
",
"      <td>No</td>
",
"      <td>No</td>
",
"      <td>No</td>
",
"      <td>No</td>
",
"      <td>Down</td>
",
"      <td>No</td>
",
"      <td>No</td>
",
"      <td>Ch</td>
",
"      <td>Yes</td>
",
"      <td>&gt;30</td>
",
"    </tr>
",
"    <tr>
",
"      <th>8</th>
",
"      <td>2092362</td>
",
"      <td>Caucasian</td>
",
"      <td>Female</td>
",
"      <td>[70-80)</td>
",
"      <td>6</td>
",
"      <td>25</td>
",
"      <td>7</td>
",
"      <td>11</td>
",
"      <td>88</td>
",
"      <td>1</td>
",
"      <td>...</td>
",
"      <td>No</td>
",
"      <td>No</td>
",
"      <td>No</td>
",
"      <td>No</td>
",
"      <td>Down</td>
",
"      <td>No</td>
",
"      <td>No</td>
",
"      <td>Ch</td>
",
"      <td>Yes</td>
",
"      <td>&gt;30</td>
",
"    </tr>
",
"    <tr>
",
"      <th>9</th>
",
"      <td>2095932</td>
",
"      <td>AfricanAmerican</td>
",
"      <td>Female</td>
",
"      <td>[30-40)</td>
",
"      <td>6</td>
",
"      <td>25</td>
",
"      <td>7</td>
",
"      <td>8</td>
",
"      <td>62</td>
",
"      <td>0</td>
",
"      <td>...</td>
",
"      <td>No</td>
",
"      <td>No</td>
",
"      <td>No</td>
",
"      <td>No</td>
",
"      <td>Steady</td>
",
"      <td>No</td>
",
"      <td>No</td>
",
"      <td>Ch</td>
",
"      <td>Yes</td>
",
"      <td>&gt;30</td>
",
"    </tr>
",
"  </tbody>
",
"</table>
",
"<p>10 rows × 38 columns</p>
",
"</div>"
],
text/plain: [
"   encounter_id             race  gender      age  admission_type_id  \
",
"0        236316        Caucasian    Male  [80-90)                  1   
",
"1        955884        Caucasian  Female  [70-80)                  1   
",
"2       1257282            Other  Female  [50-60)                  1   
",
"3       1270524        Caucasian    Male  [60-70)                  1   
",
"4       1455252        Caucasian  Female  [80-90)                  1   
",
"5       1810752        Caucasian    Male  [70-80)                  1   
",
"6       1881372        Caucasian    Male  [60-70)                  1   
",
"7       1968528        Caucasian  Female  [70-80)                  6   
",
"8       2092362        Caucasian  Female  [70-80)                  6   
",
"9       2095932  AfricanAmerican  Female  [30-40)                  6   
",
"
",
"   discharge_disposition_id  admission_source_id  time_in_hospital  \
",
"0                         3                    7                 6   
",
"1                         3                    7                 5   
",
"2                         1                    7                 2   
",
"3                         2                    7                 1   
",
"4                         1                    7                 3   
",
"5                         3                    7                14   
",
"6                         2                    7                 4   
",
"7                        25                    1                10   
",
"8                        25                    7                11   
",
"9                        25                    7                 8   
",
"
",
"   num_lab_procedures  num_procedures  ...  rosiglitazone  acarbose  miglitol  \
",
"0                  64               3  ...             No        No        No   
",
"1                  34               0  ...             No        No        No   
",
"2                  53               0  ...             No        No        No   
",
"3                  59               0  ...             No        No        No   
",
"4                  34               0  ...             No        No        No   
",
"5                  78               1  ...             No        No        No   
",
"6                  65               2  ...             No        No        No   
",
"7                  56               2  ...             No        No        No   
",
"8                  88               1  ...             No        No        No   
",
"9                  62               0  ...             No        No        No   
",
"
",
"   tolazamide insulin glyburide-metformin glipizide-metformin  change  \
",
"0          No      No                  No                  No      Ch   
",
"1          No      Up                  No                  No      Ch   
",
"2          No      Up                  No                  No      Ch   
",
"3          No  Steady                  No                  No      No   
",
"4          No      No                  No                  No      No   
",
"5          No      Up                  No                  No      Ch   
",
"6          No  Steady                  No                  No      No   
",
"7          No    Down                  No                  No      Ch   
",
"8          No    Down                  No                  No      Ch   
",
"9          No  Steady                  No                  No      Ch   
",
"
",
"  diabetesMed readmitted  
",
"0         Yes         NO  
",
"1         Yes        >30  
",
"2         Yes         NO  
",
"3         Yes         NO  
",
"4          No        >30  
",
"5         Yes        <30  
",
"6         Yes        <30  
",
"7         Yes        >30  
",
"8         Yes        >30  
",
"9         Yes        >30  
",
"
",
"[10 rows x 38 columns]"
]
},
execution_count: 27,
metadata: { },
output_type: "execute_result"
}
],
source: [
"# Check dataset
",
"pd.read_sql('SELECT * FROM diabetes LIMIT 10', conn)"
]
},
{
cell_type: "code",
execution_count: 28,
id: "7d687295-a1c8-45f2-82a4-ed4d2ee978c1",
metadata: { },
outputs: [
{
data: {
text/plain: [
"<sqlalchemy.engine.cursor.LegacyCursorResult at 0x7f79890933d0>"
]
},
execution_count: 28,
metadata: { },
output_type: "execute_result"
}
],
source: [
"# Create cleanup table
",
"engine.execute('CREATE TABLE "cleaned_columns" ('
",
"               'id BIGINT NOT NULL,'
",
"               'age VARCHAR, '
",
"               'diag_1 VARCHAR, '
",
"               'diag_2 VARCHAR, '
",
"               'diag_3 VARCHAR, '
",
"               'PRIMARY KEY (id));')"
]
},
{
cell_type: "code",
execution_count: 29,
id: "2baa17a3-0639-4095-96d8-212b61e2d6e7",
metadata: { },
outputs: [
{
data: {
text/plain: [
"<sqlalchemy.engine.cursor.LegacyCursorResult at 0x7f7968e72ca0>"
]
},
execution_count: 29,
metadata: { },
output_type: "execute_result"
}
],
source: [
"# Insert columns into new table to clean
",
"engine.execute('INSERT INTO "cleaned_columns" '
",
"               'SELECT encounter_id AS id, '
",
"               'age, '
",
"               'diag_1, '
",
"               'diag_2, '
",
"               'diag_3 '
",
"               'FROM diabetes;')"
]
},
{
cell_type: "code",
execution_count: 30,
id: "de2c0d00-6500-4082-bdb1-ce4322f45f19",
metadata: { },
outputs: [
{
data: {
text/html: [
"<div>
",
"<style scoped>
",
"    .dataframe tbody tr th:only-of-type {
",
"        vertical-align: middle;
",
"    }
",
"
",
"    .dataframe tbody tr th {
",
"        vertical-align: top;
",
"    }
",
"
",
"    .dataframe thead th {
",
"        text-align: right;
",
"    }
",
"</style>
",
"<table border="1" class="dataframe">
",
"  <thead>
",
"    <tr style="text-align: right;">
",
"      <th></th>
",
"      <th>id</th>
",
"      <th>age</th>
",
"      <th>diag_1</th>
",
"      <th>diag_2</th>
",
"      <th>diag_3</th>
",
"    </tr>
",
"  </thead>
",
"  <tbody>
",
"    <tr>
",
"      <th>0</th>
",
"      <td>236316</td>
",
"      <td>[80-90)</td>
",
"      <td>427</td>
",
"      <td>428</td>
",
"      <td>414</td>
",
"    </tr>
",
"    <tr>
",
"      <th>1</th>
",
"      <td>955884</td>
",
"      <td>[70-80)</td>
",
"      <td>414</td>
",
"      <td>411</td>
",
"      <td>276</td>
",
"    </tr>
",
"    <tr>
",
"      <th>2</th>
",
"      <td>1257282</td>
",
"      <td>[50-60)</td>
",
"      <td>590</td>
",
"      <td>250.01</td>
",
"      <td>401</td>
",
"    </tr>
",
"    <tr>
",
"      <th>3</th>
",
"      <td>1270524</td>
",
"      <td>[60-70)</td>
",
"      <td>411</td>
",
"      <td>401</td>
",
"      <td>490</td>
",
"    </tr>
",
"    <tr>
",
"      <th>4</th>
",
"      <td>1455252</td>
",
"      <td>[80-90)</td>
",
"      <td>427</td>
",
"      <td>428</td>
",
"      <td>414</td>
",
"    </tr>
",
"    <tr>
",
"      <th>5</th>
",
"      <td>1810752</td>
",
"      <td>[70-80)</td>
",
"      <td>434</td>
",
"      <td>250.6</td>
",
"      <td>250.7</td>
",
"    </tr>
",
"    <tr>
",
"      <th>6</th>
",
"      <td>1881372</td>
",
"      <td>[60-70)</td>
",
"      <td>428</td>
",
"      <td>410</td>
",
"      <td>518</td>
",
"    </tr>
",
"    <tr>
",
"      <th>7</th>
",
"      <td>1968528</td>
",
"      <td>[70-80)</td>
",
"      <td>440</td>
",
"      <td>413</td>
",
"      <td>250.52</td>
",
"    </tr>
",
"    <tr>
",
"      <th>8</th>
",
"      <td>2092362</td>
",
"      <td>[70-80)</td>
",
"      <td>250.6</td>
",
"      <td>276</td>
",
"      <td>581</td>
",
"    </tr>
",
"    <tr>
",
"      <th>9</th>
",
"      <td>2095932</td>
",
"      <td>[30-40)</td>
",
"      <td>250.32</td>
",
"      <td>403</td>
",
"      <td>276</td>
",
"    </tr>
",
"  </tbody>
",
"</table>
",
"</div>"
],
text/plain: [
"        id      age  diag_1  diag_2  diag_3
",
"0   236316  [80-90)     427     428     414
",
"1   955884  [70-80)     414     411     276
",
"2  1257282  [50-60)     590  250.01     401
",
"3  1270524  [60-70)     411     401     490
",
"4  1455252  [80-90)     427     428     414
",
"5  1810752  [70-80)     434   250.6   250.7
",
"6  1881372  [60-70)     428     410     518
",
"7  1968528  [70-80)     440     413  250.52
",
"8  2092362  [70-80)   250.6     276     581
",
"9  2095932  [30-40)  250.32     403     276"
]
},
execution_count: 30,
metadata: { },
output_type: "execute_result"
}
],
source: [
"# Check data
",
"pd.read_sql('SELECT * FROM cleaned_columns LIMIT 10', conn)"
]
},
{
cell_type: "code",
execution_count: 10,
id: "9eb0b0eb-6343-4e8c-b184-5143ca70f75b",
metadata: { },
outputs: [ ],
source: [
"# Close SQLite connection
",
"# conn.close()"
]
},
{
cell_type: "code",
execution_count: null,
id: "d5e9721d-17fe-41a5-98af-5118cc5c156d",
metadata: { },
outputs: [ ],
source: [
"# Before running ML model, drop ID column
",
"# Drop the non-beneficial ID column 'encounter_id'
",
"#df = df.drop(['encounter_id'],1)
",
"target = ['A1Cresult']"
]
}
],
metadata: {
kernelspec: {
display_name: "Python 3 (ipykernel)",
language: "python",
name: "python3"
},
language_info: {
codemirror_mode: {
name: "ipython",
version: 3
},
file_extension: ".py",
mimetype: "text/x-python",
name: "python",
nbconvert_exporter: "python",
pygments_lexer: "ipython3",
version: "3.9.5"
}
},
nbformat: 4,
nbformat_minor: 5
}
