{
 "cells": [
  {
   "cell_type": "markdown",
   "id": "182c5a03-627b-4a7b-85ec-d4112f0dc85d",
   "metadata": {},
   "source": [
    "# Machine Learning Diabetes Classification"
   ]
  },
  {
   "cell_type": "markdown",
   "id": "2443d871-6db0-48bb-ab11-0603bae3313c",
   "metadata": {},
   "source": [
    "## Read csv and perform basic data cleaning"
   ]
  },
  {
   "cell_type": "code",
   "execution_count": 1,
   "id": "ad70e763-65da-49fe-b303-57534697fdef",
   "metadata": {},
   "outputs": [],
   "source": [
    "# Install zipfile36 if you haven't already\n",
    "# !pip install zipfile36"
   ]
  },
  {
   "cell_type": "code",
   "execution_count": 2,
   "id": "59179824-61bb-428a-a1d0-f511db081b84",
   "metadata": {},
   "outputs": [],
   "source": [
    "# Import our dependencies\n",
    "import pandas as pd\n",
    "import numpy as np\n",
    "from io import BytesIO\n",
    "from zipfile import ZipFile\n",
    "from urllib.request import urlopen\n",
    "\n",
    "# SQL\n",
    "from sqlalchemy import create_engine\n",
    "import sqlite3 as sql\n",
    "\n",
    "# Machine learning\n",
    "from sklearn.model_selection import train_test_split\n",
    "from sklearn.preprocessing import StandardScaler\n",
    "from sklearn.ensemble import RandomForestClassifier\n",
    "from sklearn.metrics import accuracy_score\n",
    "from sklearn.decomposition import PCA\n",
    "import os\n",
    "import tensorflow as tf\n",
    "from tensorflow.keras.callbacks import ModelCheckpoint"
   ]
  },
  {
   "cell_type": "code",
   "execution_count": null,
   "id": "2f059d24-d934-4829-b24b-296032ccdfa6",
   "metadata": {},
   "outputs": [],
   "source": [
    "# Create dataframe\n",
    "z = urlopen('https://archive.ics.uci.edu/ml/machine-learning-databases/00296/dataset_diabetes.zip')\n",
    "myzip = ZipFile(BytesIO(z.read())).extract('dataset_diabetes/diabetic_data.csv')\n",
    "df = pd.read_csv(myzip)\n",
    "df.head(5)\n",
    "target = ['A1Cresult']"
   ]
  },
  {
   "cell_type": "code",
   "execution_count": null,
   "id": "b34b6689-2de7-46a0-8c05-5e01c01e99e7",
   "metadata": {},
   "outputs": [],
   "source": [
    "# Drop the non-beneficial ID columns, 'encounter_id' and 'patient_nbr'\n",
    "df = df.drop(['patient_nbr'],1)\n",
    "\n",
    "# Drop mostly empty columns, 'weight', 'payer_code', 'max_glu_serum', and 'medical_specialty'\n",
    "df = df.drop(['weight', 'payer_code', 'max_glu_serum', 'medical_specialty', ],1)\n",
    "\n",
    "# Replace '?' values to nulls\n",
    "df.replace({'?': np.nan}, inplace=True)\n",
    "\n",
    "# Replace 'None' values to nulls\n",
    "df.replace({'None': np.nan}, inplace=True)\n",
    "\n",
    "# Drop the null rows\n",
    "df = df.dropna()"
   ]
  },
  {
   "cell_type": "code",
   "execution_count": null,
   "id": "5150ac9f-2499-4067-93d8-f243e9b3cadd",
   "metadata": {},
   "outputs": [],
   "source": [
    "# Convert the target column values to normal and high based on their values\n",
    "x = {'Norm': 'normal'}   \n",
    "df = df.replace(x)\n",
    "x = dict.fromkeys(['>7', '>8'], 'high')    \n",
    "df = df.replace(x)\n",
    "df.reset_index(inplace=True, drop=True)"
   ]
  },
  {
   "cell_type": "code",
   "execution_count": null,
   "id": "2d434e63-be18-4cfd-97d3-af27d9bfbe36",
   "metadata": {},
   "outputs": [],
   "source": [
    "# Determine the number of unique values in each column.\n",
    "df.nunique()"
   ]
  },
  {
   "cell_type": "code",
   "execution_count": null,
   "id": "6f34de39-a90e-4fab-9b7d-3b35c2970969",
   "metadata": {},
   "outputs": [],
   "source": [
    "# Drop columns with only 1 value\n",
    "df = df.drop(['acetohexamide', 'troglitazone', 'examide', 'citoglipton','glimepiride-pioglitazone', 'metformin-rosiglitazone', 'metformin-pioglitazone'],1)\n",
    "df.nunique()"
   ]
  },
  {
   "cell_type": "code",
   "execution_count": null,
   "id": "8bd35381",
   "metadata": {},
   "outputs": [],
   "source": [
    "# Drop variables with outliers \n",
    "df = df.drop(['number_inpatient', 'number_outpatient','number_emergency'],1)\n",
    "df.nunique()"
   ]
  },
  {
   "cell_type": "code",
   "execution_count": null,
   "id": "75fea383-a8b3-4da7-bf17-bfe0b2d58d0b",
   "metadata": {},
   "outputs": [],
   "source": [
    "# Info on the data frame data types, non_null, etc. \n",
    "df.info()"
   ]
  },
  {
   "cell_type": "code",
   "execution_count": null,
   "id": "128fd0b5",
   "metadata": {},
   "outputs": [],
   "source": [
    "# Looking at dataframe \n",
    "df.head()"
   ]
  },
  {
   "cell_type": "code",
   "execution_count": null,
   "id": "bb076e50",
   "metadata": {},
   "outputs": [],
   "source": [
    "# Generate our categorical variable list\n",
    "df_cat = df.dtypes[df.dtypes == \"object\"].index.tolist()\n",
    "df_cat"
   ]
  },
  {
   "cell_type": "code",
   "execution_count": null,
   "id": "aebe31c3",
   "metadata": {},
   "outputs": [],
   "source": [
    "# Check the number of unique values in each column\n",
    "df[df_cat].nunique()"
   ]
  },
  {
   "cell_type": "code",
   "execution_count": null,
   "id": "69254f0f",
   "metadata": {},
   "outputs": [],
   "source": [
    "# Create SQLite engine using SQLAlechmey\n",
    "engine = create_engine('sqlite:///diabetes_data.db', echo=False)\n",
    "conn = engine.connect()\n",
    "df.to_sql('diabetes', conn, index=False, if_exists='replace')"
   ]
  },
  {
   "cell_type": "code",
   "execution_count": null,
   "id": "701fd514",
   "metadata": {},
   "outputs": [],
   "source": [
    "# Check dataset\n",
    "pd.read_sql('SELECT * FROM diabetes LIMIT 10', conn)"
   ]
  },
  {
   "cell_type": "code",
   "execution_count": null,
   "id": "69d585c8",
   "metadata": {},
   "outputs": [],
   "source": [
    "# Create cleanup table\n",
    "engine.execute('CREATE TABLE \"cleaned_columns\" ('\n",
    "               'id BIGINT NOT NULL,'\n",
    "               'diag_1c VARCHAR, '\n",
    "               'diag_2c VARCHAR, '\n",
    "               'diag_3c VARCHAR, '\n",
    "               'PRIMARY KEY (id));')"
   ]
  },
  {
   "cell_type": "code",
   "execution_count": null,
   "id": "554714c9",
   "metadata": {},
   "outputs": [],
   "source": [
    "# Insert columns into new table to clean\n",
    "engine.execute('INSERT INTO \"cleaned_columns\" '\n",
    "               'SELECT encounter_id AS id, '\n",
    "               'CASE '\n",
    "                   'WHEN (diag_1 BETWEEN 390 AND 459) OR (diag_1 = 785) THEN \"circulatory\" '\n",
    "                   'WHEN (diag_1 BETWEEN 460 AND 519) OR (diag_1 = 786) THEN \"respiratory\" '\n",
    "                   'WHEN (diag_1 BETWEEN 520 AND 579) OR (diag_1 = 787) THEN \"digestive\" '\n",
    "                   'WHEN (diag_1 BETWEEN 250 AND 251) THEN \"diabetes\" '\n",
    "                   'WHEN (diag_1 BETWEEN 800 AND 999) THEN \"injury\" '\n",
    "                   'WHEN (diag_1 BETWEEN 710 AND 739) THEN \"musculoskeletal\" '\n",
    "                   'WHEN (diag_1 BETWEEN 580 AND 629) OR (diag_1 = 788) THEN \"genitourinary\" '\n",
    "                   'WHEN (diag_1 BETWEEN 140 AND 239) THEN \"neoplasms\" '\n",
    "                   'ELSE \"other\" '\n",
    "               'END AS diag_1c, '\n",
    "               'CASE '\n",
    "                   'WHEN (diag_2 BETWEEN 390 AND 459) OR (diag_2 = 785) THEN \"circulatory\" '\n",
    "                   'WHEN (diag_2 BETWEEN 460 AND 519) OR (diag_2 = 786) THEN \"respiratory\" '\n",
    "                   'WHEN (diag_2 BETWEEN 520 AND 579) OR (diag_2 = 787) THEN \"digestive\" '\n",
    "                   'WHEN (diag_2 BETWEEN 250 AND 251) THEN \"diabetes\" '\n",
    "                   'WHEN (diag_2 BETWEEN 800 AND 999) THEN \"injury\" '\n",
    "                   'WHEN (diag_2 BETWEEN 710 AND 739) THEN \"musculoskeletal\" '\n",
    "                   'WHEN (diag_2 BETWEEN 580 AND 629) OR (diag_2 = 788) THEN \"genitourinary\" '\n",
    "                   'WHEN (diag_2 BETWEEN 140 AND 239) THEN \"neoplasms\" '\n",
    "                   'ELSE \"other\" '\n",
    "               'END AS diag_2c, '\n",
    "               'CASE '\n",
    "                   'WHEN (diag_3 BETWEEN 390 AND 459) OR (diag_3 = 785) THEN \"circulatory\" '\n",
    "                   'WHEN (diag_3 BETWEEN 460 AND 519) OR (diag_3 = 786) THEN \"respiratory\" '\n",
    "                   'WHEN (diag_3 BETWEEN 520 AND 579) OR (diag_3 = 787) THEN \"digestive\" '\n",
    "                   'WHEN (diag_3 BETWEEN 250 AND 251) THEN \"diabetes\" '\n",
    "                   'WHEN (diag_3 BETWEEN 800 AND 999) THEN \"injury\" '\n",
    "                   'WHEN (diag_3 BETWEEN 710 AND 739) THEN \"musculoskeletal\" '\n",
    "                   'WHEN (diag_3 BETWEEN 580 AND 629) OR (diag_3 = 788) THEN \"genitourinary\" '\n",
    "                   'WHEN (diag_3 BETWEEN 140 AND 239) THEN \"neoplasms\" '\n",
    "                   'ELSE \"other\" '\n",
    "               'END AS diag_3c '\n",
    "               'FROM diabetes;')"
   ]
  },
  {
   "cell_type": "code",
   "execution_count": null,
   "id": "23320881",
   "metadata": {},
   "outputs": [],
   "source": [
    "# Check data\n",
    "pd.read_sql('SELECT * FROM cleaned_columns LIMIT 10', conn)"
   ]
  },
  {
   "cell_type": "code",
   "execution_count": null,
   "id": "a5b416bb",
   "metadata": {},
   "outputs": [],
   "source": [
    "# Join diabetes and cleaned_columns tables\n",
    "diabetes_df = pd.read_sql('SELECT * FROM diabetes JOIN cleaned_columns ON diabetes.encounter_id = cleaned_columns.id', conn)\n",
    "diabetes_df "
   ]
  },
  {
   "cell_type": "code",
   "execution_count": null,
   "id": "b53d1a07",
   "metadata": {},
   "outputs": [],
   "source": [
    "# Check Datatypes\n",
    "diabetes_df.dtypes"
   ]
  },
  {
   "cell_type": "code",
   "execution_count": null,
   "id": "886072ea",
   "metadata": {},
   "outputs": [],
   "source": [
    "# View DataFrame\n",
    "diabetes_df"
   ]
  },
  {
   "cell_type": "code",
   "execution_count": null,
   "id": "78071f3d",
   "metadata": {},
   "outputs": [],
   "source": [
    "# Generate our categorical variable list\n",
    "diabetes_df_cat = diabetes_df.dtypes[diabetes_df.dtypes == \"object\"].index.tolist()\n",
    "diabetes_df_cat"
   ]
  },
  {
   "cell_type": "code",
   "execution_count": null,
   "id": "d927ce87",
   "metadata": {},
   "outputs": [],
   "source": [
    "# Drop the non-beneficial ID and diag columns, 'encounter_id', 'id', 'diag_1', 'diag_2', and 'diag_3'\n",
    "diabetes_2_df = diabetes_df.drop(['encounter_id', 'id', 'diag_1', 'diag_2', 'diag_3'],1)"
   ]
  },
  {
   "cell_type": "code",
   "execution_count": null,
   "id": "64005bf1",
   "metadata": {},
   "outputs": [],
   "source": [
    "diabetes_2_df "
   ]
  },
  {
   "cell_type": "code",
   "execution_count": null,
   "id": "7ddb7bb6",
   "metadata": {},
   "outputs": [],
   "source": [
    "# Check data\n",
    "diabetes_2_df.dtypes"
   ]
  },
  {
   "cell_type": "code",
   "execution_count": null,
   "id": "fa3dadff",
   "metadata": {},
   "outputs": [],
   "source": [
    "# Generate our categorical variable list\n",
    "diabetes_2_df_cat = diabetes_2_df.dtypes[diabetes_2_df.dtypes == \"object\"].index.tolist()\n",
    "diabetes_2_df_cat"
   ]
  },
  {
   "cell_type": "code",
   "execution_count": null,
   "id": "5c7b1cdd",
   "metadata": {},
   "outputs": [],
   "source": [
    "# OneHot encode the categorical data\n",
    "from sklearn.preprocessing import OneHotEncoder\n",
    "\n",
    "# Create a OneHotEncoder instance\n",
    "enc = OneHotEncoder(sparse=False)\n",
    "\n",
    "# Fit and transform the OneHotEncoder using the categorical variable list\n",
    "encode_df = pd.DataFrame(enc.fit_transform(diabetes_2_df[diabetes_2_df_cat]))\n",
    "\n",
    "# Add the encoded variable names to the DataFrame\n",
    "encode_df.columns = enc.get_feature_names_out(diabetes_2_df_cat)\n",
    "encode_df.head()"
   ]
  },
  {
   "cell_type": "code",
   "execution_count": null,
   "id": "e9373502",
   "metadata": {},
   "outputs": [],
   "source": [
    "# Merge one-hot encoded features and drop the originals\n",
    "diabetes_2_df = diabetes_2_df.merge(encode_df,left_index=True, right_index=True)\n",
    "diabetes_2_df = diabetes_2_df.drop(diabetes_2_df_cat,1)\n",
    "diabetes_2_df.head()"
   ]
  },
  {
   "cell_type": "code",
   "execution_count": null,
   "id": "4c2746c9",
   "metadata": {},
   "outputs": [],
   "source": [
    "# Remove target from features data\n",
    "y = diabetes_2_df['A1Cresult_high']\n",
    "X = diabetes_2_df.drop(columns=[\"A1Cresult_high\",\"A1Cresult_normal\"])\n",
    "\n",
    "# Split training/test datasets\n",
    "X_train, X_test, y_train, y_test = train_test_split(X, y, random_state=42, stratify=y)\n",
    "\n",
    "# Create a StandardScaler instance\n",
    "scaler = StandardScaler()\n",
    "\n",
    "# Fit the StandardScaler\n",
    "X_scaler = scaler.fit(X_train)\n",
    "\n",
    "# Scale the data\n",
    "X_train_scaled = X_scaler.transform(X_train)\n",
    "X_test_scaled = X_scaler.transform(X_test)"
   ]
  },
  {
   "cell_type": "code",
   "execution_count": null,
   "id": "fbd1bbc8",
   "metadata": {},
   "outputs": [],
   "source": [
    "# Create a random forest classifier.\n",
    "rf_model = RandomForestClassifier(n_estimators=128, random_state=78)\n",
    "\n",
    "# Fitting the model\n",
    "rf_model = rf_model.fit(X_train_scaled, y_train)\n",
    "\n",
    "# Evaluate the model\n",
    "y_pred = rf_model.predict(X_test_scaled)\n",
    "print(f\" Random forest predictive accuracy: {accuracy_score(y_test,y_pred):.3f}\")"
   ]
  },
  {
   "cell_type": "code",
   "execution_count": null,
   "id": "efded632",
   "metadata": {},
   "outputs": [],
   "source": [
    "# Create new dataframe with top only 8 features\n",
    "top_8_df = diabetes_2_df[['num_lab_procedures','num_medications','time_in_hospital','num_procedures','number_diagnoses','discharge_disposition_id','admission_type_id','admission_source_id']] \n",
    "top_8_df.head(20)"
   ]
  },
  {
   "cell_type": "code",
   "execution_count": null,
   "id": "821465a1",
   "metadata": {},
   "outputs": [],
   "source": [
    "# Remove target from features data\n",
    "y = diabetes_2_df['A1Cresult_high']\n",
    "X = top_8_df\n",
    "\n",
    "# Split training/test datasets\n",
    "X_train, X_test, y_train, y_test = train_test_split(X, y, random_state=42, stratify=y)\n",
    "\n",
    "# Create a StandardScaler instance\n",
    "scaler = StandardScaler()\n",
    "\n",
    "# Fit the StandardScaler\n",
    "X_scaler = scaler.fit(X_train)\n",
    "\n",
    "# Scale the data\n",
    "X_train_scaled = X_scaler.transform(X_train)\n",
    "X_test_scaled = X_scaler.transform(X_test)"
   ]
  },
  {
   "cell_type": "code",
   "execution_count": null,
   "id": "ae1c95a0",
   "metadata": {},
   "outputs": [],
   "source": [
    "# Create a random forest classifier\n",
    "rf_model = RandomForestClassifier(n_estimators=128, random_state=78)\n",
    "\n",
    "# Fitting the model\n",
    "rf_model = rf_model.fit(X_train_scaled, y_train)\n",
    "\n",
    "# Evaluate the model\n",
    "y_pred = rf_model.predict(X_test_scaled)\n",
    "print(f\" Random forest predictive accuracy: {accuracy_score(y_test,y_pred):.3f}\")"
   ]
  },
  {
   "cell_type": "code",
   "execution_count": null,
   "id": "531a536a",
   "metadata": {},
   "outputs": [],
   "source": [
    "# Trying PCA on original data with 95% variance\n",
    "pca = PCA(n_components = 0.95)\n",
    "pca.fit(diabetes_2_df)\n",
    "reduced = pca.transform(diabetes_2_df)"
   ]
  },
  {
   "cell_type": "code",
   "execution_count": null,
   "id": "cbd60711",
   "metadata": {},
   "outputs": [],
   "source": [
    "# Call into dataframe \n",
    "transform_pca = pd.DataFrame(reduced)\n",
    "transform_pca"
   ]
  },
  {
   "cell_type": "code",
   "execution_count": null,
   "id": "8ee29096",
   "metadata": {},
   "outputs": [],
   "source": [
    "# Trying PCA on original data with 99% variance\n",
    "pca = PCA(n_components = 0.99)\n",
    "pca.fit(diabetes_2_df)\n",
    "reduced_2 = pca.transform(diabetes_2_df)"
   ]
  },
  {
   "cell_type": "code",
   "execution_count": null,
   "id": "60f9eef2",
   "metadata": {},
   "outputs": [],
   "source": [
    "# Call into dataframe \n",
    "pd.DataFrame(reduced_2)"
   ]
  },
  {
   "cell_type": "code",
   "execution_count": null,
   "id": "c44c649c",
   "metadata": {},
   "outputs": [],
   "source": [
    "# Running Random Forest with the top 5 components from PCA\n",
    "# Remove target from features data\n",
    "y = diabetes_2_df['A1Cresult_high']\n",
    "X = transform_pca\n",
    "# Split training/test datasets\n",
    "X_train, X_test, y_train, y_test = train_test_split(X, y, random_state=42, stratify=y)\n",
    "\n",
    "# Create a StandardScaler instance\n",
    "scaler = StandardScaler()\n",
    "\n",
    "# Fit the StandardScaler\n",
    "X_scaler = scaler.fit(X_train)\n",
    "\n",
    "# Scale the data\n",
    "X_train_scaled = X_scaler.transform(X_train)\n",
    "X_test_scaled = X_scaler.transform(X_test)"
   ]
  },
  {
   "cell_type": "code",
   "execution_count": null,
   "id": "58308f7f",
   "metadata": {},
   "outputs": [],
   "source": [
    "# Create a random forest classifier.\n",
    "rf_model = RandomForestClassifier(n_estimators=128, random_state=78)\n",
    "\n",
    "# Fitting the model\n",
    "rf_model = rf_model.fit(X_train_scaled, y_train)\n",
    "\n",
    "# Evaluate the model\n",
    "y_pred = rf_model.predict(X_test_scaled)\n",
    "print(f\" Random forest predictive accuracy: {accuracy_score(y_test,y_pred):.3f}\")"
   ]
  },
  {
   "cell_type": "code",
   "execution_count": null,
   "id": "c446d7d7",
   "metadata": {},
   "outputs": [],
   "source": [
    "# Define the model - deep neural net\n",
    "number_input_features = len(X_train_scaled[0])\n",
    "hidden_nodes_layer1 = len(X_train_scaled[0])*3\n",
    "hidden_nodes_layer2 = len(X_train_scaled[0])*2\n",
    "hidden_nodes_layer3 = len(X_train_scaled[0])\n",
    "\n",
    "nn = tf.keras.models.Sequential()\n",
    "\n",
    "# First hidden layer\n",
    "nn.add(\n",
    "    tf.keras.layers.Dense(units=hidden_nodes_layer1, input_dim=number_input_features, activation=\"relu\")\n",
    ")\n",
    "\n",
    "# Second hidden layer\n",
    "nn.add(tf.keras.layers.Dense(units=hidden_nodes_layer2, activation=\"relu\"))\n",
    "\n",
    "# Third hidden layer\n",
    "nn.add(tf.keras.layers.Dense(units=hidden_nodes_layer2, activation=\"relu\"))\n",
    "\n",
    "# Output layer\n",
    "nn.add(tf.keras.layers.Dense(units=1, activation=\"sigmoid\"))\n",
    "\n",
    "# Check the structure of the model\n",
    "nn.summary()"
   ]
  },
  {
   "cell_type": "code",
   "execution_count": null,
   "id": "70b155b0-132e-46eb-98f1-e09822327295",
   "metadata": {},
   "outputs": [],
   "source": [
    "# Define the checkpoint path and filenames\n",
    "os.makedirs(\"checkpoints/\",exist_ok=True)\n",
    "checkpoint_path = \"checkpoints/weights.{epoch:02d}.hdf5\""
   ]
  },
  {
   "cell_type": "code",
   "execution_count": null,
   "id": "fab276f9-f759-45ab-835a-43af1a1aaf3f",
   "metadata": {},
   "outputs": [],
   "source": [
    "# Compile the model\n",
    "nn.compile(loss=\"binary_crossentropy\", optimizer=\"adam\", metrics=[\"accuracy\"])\n",
    "\n",
    "# Create a callback that saves the model's weights every epoch\n",
    "cp_callback = ModelCheckpoint(\n",
    "    filepath=checkpoint_path,\n",
    "    verbose=1,\n",
    "    save_weights_only=True,\n",
    "    save_freq=5)"
   ]
  },
  {
   "cell_type": "code",
   "execution_count": null,
   "id": "7d3ea33f-6582-4b69-9632-1b15f3110795",
   "metadata": {},
   "outputs": [],
   "source": [
    "# Train the model\n",
    "fit_model = nn.fit(X_train_scaled, y_train, epochs=50) "
   ]
  },
  {
   "cell_type": "code",
   "execution_count": null,
   "id": "c3811a69-e57d-495f-b046-1f491556aec7",
   "metadata": {},
   "outputs": [],
   "source": [
    "# Evaluate the model using the test data\n",
    "model_loss, model_accuracy = nn.evaluate(X_test_scaled,y_test,verbose=2)\n",
    "print(f\"Loss: {model_loss}, Accuracy: {model_accuracy}\")"
   ]
  },
  {
   "cell_type": "code",
   "execution_count": null,
   "id": "93c94596-3a0e-4a74-afb4-3d7b0c3e1866",
   "metadata": {},
   "outputs": [],
   "source": [
    "# Export our model to HDF5 file\n",
    "nn.save(\"ML_Diabetes.h5\")"
   ]
  }
 ],
 "metadata": {
  "kernelspec": {
   "display_name": "Python 3 (ipykernel)",
   "language": "python",
   "name": "python3"
  },
  "language_info": {
   "codemirror_mode": {
    "name": "ipython",
    "version": 3
   },
   "file_extension": ".py",
   "mimetype": "text/x-python",
   "name": "python",
   "nbconvert_exporter": "python",
   "pygments_lexer": "ipython3",
   "version": "3.9.5"
  }
 },
 "nbformat": 4,
 "nbformat_minor": 5
}
