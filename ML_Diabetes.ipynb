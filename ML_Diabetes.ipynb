{
 "cells": [
  {
   "cell_type": "markdown",
   "id": "182c5a03-627b-4a7b-85ec-d4112f0dc85d",
   "metadata": {},
   "source": [
    "# Machine Learning Diabetes Classification"
   ]
  },
  {
   "cell_type": "markdown",
   "id": "2443d871-6db0-48bb-ab11-0603bae3313c",
   "metadata": {},
   "source": [
    "## Read csv and perform basic data cleaning"
   ]
  },
  {
   "cell_type": "code",
   "execution_count": null,
   "id": "ad70e763-65da-49fe-b303-57534697fdef",
   "metadata": {},
   "outputs": [],
   "source": [
    "# Install zipfile36 if you haven't already\n",
    "#!pip install zipfile36"
   ]
  },
  {
   "cell_type": "code",
   "execution_count": null,
   "id": "59179824-61bb-428a-a1d0-f511db081b84",
   "metadata": {},
   "outputs": [],
   "source": [
    "# Import our dependencies\n",
    "import pandas as pd\n",
    "import numpy as np\n",
    "from io import BytesIO\n",
    "from zipfile import ZipFile\n",
    "from urllib.request import urlopen\n",
    "\n",
    "# SQL\n",
    "from sqlalchemy import create_engine\n",
    "import sqlite3 as sql\n",
    "\n",
    "# Machine learning\n",
    "from sklearn.model_selection import train_test_split\n",
    "from sklearn.preprocessing import StandardScaler,OneHotEncoder\n",
    "from sklearn.metrics import accuracy_score\n",
    "import tensorflow as tf\n",
    "import os\n",
    "from tensorflow.keras.callbacks import ModelCheckpoint"
   ]
  },
  {
   "cell_type": "code",
   "execution_count": null,
   "id": "2f059d24-d934-4829-b24b-296032ccdfa6",
   "metadata": {},
   "outputs": [],
   "source": [
    "# Create dataframe\n",
    "z = urlopen('https://archive.ics.uci.edu/ml/machine-learning-databases/00296/dataset_diabetes.zip')\n",
    "myzip = ZipFile(BytesIO(z.read())).extract('dataset_diabetes/diabetic_data.csv')\n",
    "df = pd.read_csv(myzip)\n",
    "df.head(5)"
   ]
  },
  {
   "cell_type": "code",
   "execution_count": null,
   "id": "b34b6689-2de7-46a0-8c05-5e01c01e99e7",
   "metadata": {},
   "outputs": [],
   "source": [
    "# Drop the non-beneficial ID column 'patient_nbr'\n",
    "df = df.drop(['patient_nbr'],1)\n",
    "\n",
    "# Drop mostly empty columns, 'weight', 'payer_code', 'max_glu_serum', and 'medical_specialty'\n",
    "df = df.drop(['weight', 'payer_code', 'max_glu_serum', 'medical_specialty'],1)\n",
    "\n",
    "# Replace '?' values to nulls\n",
    "df.replace({'?': np.nan}, inplace=True)\n",
    "\n",
    "# Replace 'None' values to nulls\n",
    "df.replace({'None': np.nan}, inplace=True)\n",
    "\n",
    "# Drop the null rows\n",
    "df = df.dropna()"
   ]
  },
  {
   "cell_type": "code",
   "execution_count": null,
   "id": "5150ac9f-2499-4067-93d8-f243e9b3cadd",
   "metadata": {},
   "outputs": [],
   "source": [
    "# Convert the target column values to normal and high based on their values\n",
    "x = {'Norm': 'low'}   \n",
    "df = df.replace(x)\n",
    "x = dict.fromkeys(['>7', '>8'], 'high')    \n",
    "df = df.replace(x)\n",
    "df.reset_index(inplace=True, drop=True)"
   ]
  },
  {
   "cell_type": "code",
   "execution_count": null,
   "id": "2d434e63-be18-4cfd-97d3-af27d9bfbe36",
   "metadata": {},
   "outputs": [],
   "source": [
    "# Determine the number of unique values in each column.\n",
    "df.nunique()"
   ]
  },
  {
   "cell_type": "code",
   "execution_count": null,
   "id": "6f34de39-a90e-4fab-9b7d-3b35c2970969",
   "metadata": {},
   "outputs": [],
   "source": [
    "# Drop columns with only 1 value\n",
    "df = df.drop(['acetohexamide', 'troglitazone', 'examide', 'citoglipton','glimepiride-pioglitazone', 'metformin-rosiglitazone', 'metformin-pioglitazone'],1)\n",
    "df.nunique()"
   ]
  },
  {
   "cell_type": "code",
   "execution_count": null,
   "id": "8dce5967-bb76-4019-9a80-5712e678997a",
   "metadata": {},
   "outputs": [],
   "source": [
    "# Create SQLite engine using SQLAlechmey\n",
    "engine = create_engine('sqlite:///diabetes_data.db', echo=False)\n",
    "conn = engine.connect()\n",
    "df.to_sql('diabetes', conn, index=False, if_exists='replace')"
   ]
  },
  {
   "cell_type": "code",
   "execution_count": null,
   "id": "fb54b0c5-f1ec-418f-bd34-9782aa9ec869",
   "metadata": {},
   "outputs": [],
   "source": [
    "# Check dataset\n",
    "pd.read_sql('SELECT * FROM diabetes LIMIT 10', conn)"
   ]
  },
  {
   "cell_type": "code",
   "execution_count": null,
   "id": "7d687295-a1c8-45f2-82a4-ed4d2ee978c1",
   "metadata": {},
   "outputs": [],
   "source": [
    "# Create cleanup table\n",
    "engine.execute('CREATE TABLE \"cleaned_columns\" ('\n",
    "               'id BIGINT NOT NULL,'\n",
    "               'A1Cresultc INT, '\n",
    "               'diag_1c VARCHAR, '\n",
    "               'diag_2c VARCHAR, '\n",
    "               'diag_3c VARCHAR, '\n",
    "               'PRIMARY KEY (id));')"
   ]
  },
  {
   "cell_type": "code",
   "execution_count": null,
   "id": "2baa17a3-0639-4095-96d8-212b61e2d6e7",
   "metadata": {},
   "outputs": [],
   "source": [
    "# Insert columns into new table to clean\n",
    "engine.execute('INSERT INTO \"cleaned_columns\" '\n",
    "               'SELECT encounter_id AS id, '\n",
    "               'CASE '\n",
    "                   'WHEN A1Cresult = \"high\" THEN 1 '\n",
    "                   'ELSE 0 '\n",
    "               'END AS A1Cresultc, '\n",
    "               'CASE '\n",
    "                   'WHEN (diag_1 BETWEEN 390 AND 459) OR (diag_1 = 785) THEN \"circulatory\" '\n",
    "                   'WHEN (diag_1 BETWEEN 460 AND 519) OR (diag_1 = 786) THEN \"respiratory\" '\n",
    "                   'WHEN (diag_1 BETWEEN 520 AND 579) OR (diag_1 = 787) THEN \"digestive\" '\n",
    "                   'WHEN (diag_1 BETWEEN 250 AND 251) THEN \"diabetes\" '\n",
    "                   'WHEN (diag_1 BETWEEN 800 AND 999) THEN \"injury\" '\n",
    "                   'WHEN (diag_1 BETWEEN 710 AND 739) THEN \"musculoskeletal\" '\n",
    "                   'WHEN (diag_1 BETWEEN 580 AND 629) OR (diag_1 = 788) THEN \"genitourinary\" '\n",
    "                   'WHEN (diag_1 BETWEEN 140 AND 239) THEN \"neoplasms\" '\n",
    "                   'ELSE \"other\" '\n",
    "               'END AS diag_1c, '\n",
    "               'CASE '\n",
    "                   'WHEN (diag_2 BETWEEN 390 AND 459) OR (diag_2 = 785) THEN \"circulatory\" '\n",
    "                   'WHEN (diag_2 BETWEEN 460 AND 519) OR (diag_2 = 786) THEN \"respiratory\" '\n",
    "                   'WHEN (diag_2 BETWEEN 520 AND 579) OR (diag_2 = 787) THEN \"digestive\" '\n",
    "                   'WHEN (diag_2 BETWEEN 250 AND 251) THEN \"diabetes\" '\n",
    "                   'WHEN (diag_2 BETWEEN 800 AND 999) THEN \"injury\" '\n",
    "                   'WHEN (diag_2 BETWEEN 710 AND 739) THEN \"musculoskeletal\" '\n",
    "                   'WHEN (diag_2 BETWEEN 580 AND 629) OR (diag_2 = 788) THEN \"genitourinary\" '\n",
    "                   'WHEN (diag_2 BETWEEN 140 AND 239) THEN \"neoplasms\" '\n",
    "                   'ELSE \"other\" '\n",
    "               'END AS diag_2c, '\n",
    "               'CASE '\n",
    "                   'WHEN (diag_3 BETWEEN 390 AND 459) OR (diag_3 = 785) THEN \"circulatory\" '\n",
    "                   'WHEN (diag_3 BETWEEN 460 AND 519) OR (diag_3 = 786) THEN \"respiratory\" '\n",
    "                   'WHEN (diag_3 BETWEEN 520 AND 579) OR (diag_3 = 787) THEN \"digestive\" '\n",
    "                   'WHEN (diag_3 BETWEEN 250 AND 251) THEN \"diabetes\" '\n",
    "                   'WHEN (diag_3 BETWEEN 800 AND 999) THEN \"injury\" '\n",
    "                   'WHEN (diag_3 BETWEEN 710 AND 739) THEN \"musculoskeletal\" '\n",
    "                   'WHEN (diag_3 BETWEEN 580 AND 629) OR (diag_3 = 788) THEN \"genitourinary\" '\n",
    "                   'WHEN (diag_3 BETWEEN 140 AND 239) THEN \"neoplasms\" '\n",
    "                   'ELSE \"other\" '\n",
    "               'END AS diag_3c '\n",
    "               'FROM diabetes;')"
   ]
  },
  {
   "cell_type": "code",
   "execution_count": null,
   "id": "de2c0d00-6500-4082-bdb1-ce4322f45f19",
   "metadata": {},
   "outputs": [],
   "source": [
    "# Check data\n",
    "pd.read_sql('SELECT * FROM cleaned_columns LIMIT 10', conn)"
   ]
  },
  {
   "cell_type": "code",
   "execution_count": null,
   "id": "67cd1561-96e4-4d96-81d6-f3f6a40f1a14",
   "metadata": {},
   "outputs": [],
   "source": [
    "# Join diabetes and cleaned_columns tables\n",
    "diabetes_df = pd.read_sql('SELECT * FROM diabetes JOIN cleaned_columns ON diabetes.encounter_id = cleaned_columns.id', conn)"
   ]
  },
  {
   "cell_type": "code",
   "execution_count": null,
   "id": "9662abc0-26cd-46b5-92c0-87e6d18022be",
   "metadata": {},
   "outputs": [],
   "source": [
    "diabetes_df.dtypes"
   ]
  },
  {
   "cell_type": "code",
   "execution_count": null,
   "id": "9eb0b0eb-6343-4e8c-b184-5143ca70f75b",
   "metadata": {},
   "outputs": [],
   "source": [
    "# Close SQLite connection\n",
    "conn.close()"
   ]
  },
  {
   "cell_type": "code",
   "execution_count": null,
   "id": "d5e9721d-17fe-41a5-98af-5118cc5c156d",
   "metadata": {},
   "outputs": [],
   "source": [
    "# Drop the non-beneficial ID and diag columns, 'encounter_id', 'id', 'A1Cresult', 'diag_1', 'diag_2', and 'diag_3'\n",
    "diabetes_df = diabetes_df.drop(['encounter_id', 'id', 'A1Cresult', 'diag_1', 'diag_2', 'diag_3'],1)"
   ]
  },
  {
   "cell_type": "code",
   "execution_count": null,
   "id": "84836c8c-7356-4dfb-b935-67e2479506fb",
   "metadata": {},
   "outputs": [],
   "source": [
    "# Drop the columns with severe outliers\n",
    "diabetes_df = diabetes_df.drop(['encounter_id', 'id', 'A1Cresult', 'diag_1', 'diag_2', 'diag_3'],1)"
   ]
  },
  {
   "cell_type": "code",
   "execution_count": null,
   "id": "a646e0a2-6872-4aa2-9a56-2c6145291caa",
   "metadata": {},
   "outputs": [],
   "source": [
    "# Check data\n",
    "diabetes_df.dtypes"
   ]
  }
 ],
 "metadata": {
  "kernelspec": {
   "display_name": "Python 3 (ipykernel)",
   "language": "python",
   "name": "python3"
  },
  "language_info": {
   "codemirror_mode": {
    "name": "ipython",
    "version": 3
   },
   "file_extension": ".py",
   "mimetype": "text/x-python",
   "name": "python",
   "nbconvert_exporter": "python",
   "pygments_lexer": "ipython3",
   "version": "3.9.5"
  }
 },
 "nbformat": 4,
 "nbformat_minor": 5
}
