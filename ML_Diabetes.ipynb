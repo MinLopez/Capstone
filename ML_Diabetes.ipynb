{
 "cells": [
  {
   "cell_type": "markdown",
   "id": "182c5a03-627b-4a7b-85ec-d4112f0dc85d",
   "metadata": {},
   "source": [
    "# Machine Learning Diabetes Classification"
   ]
  },
  {
   "cell_type": "markdown",
   "id": "2443d871-6db0-48bb-ab11-0603bae3313c",
   "metadata": {},
   "source": [
    "## Read csv and perform basic data cleaning"
   ]
  },
  {
   "cell_type": "code",
   "execution_count": null,
   "id": "ad70e763-65da-49fe-b303-57534697fdef",
   "metadata": {},
   "outputs": [],
   "source": [
    "# Install zipfile36 if you haven't already\n",
    "#!pip install zipfile36"
   ]
  },
  {
   "cell_type": "code",
   "execution_count": null,
   "id": "59179824-61bb-428a-a1d0-f511db081b84",
   "metadata": {},
   "outputs": [],
   "source": [
    "# Import our dependencies\n",
    "import pandas as pd\n",
    "import numpy as np\n",
    "from io import BytesIO\n",
    "from zipfile import ZipFile\n",
    "from urllib.request import urlopen\n",
    "\n",
    "# SQL\n",
    "from sqlalchemy import create_engine\n",
    "import sqlite3 as sql\n",
    "\n",
    "# Machine learning\n",
    "from sklearn.model_selection import train_test_split\n",
    "from sklearn.preprocessing import StandardScaler,OneHotEncoder\n",
    "from sklearn.metrics import accuracy_score\n",
    "import tensorflow as tf\n",
    "import os\n",
    "from tensorflow.keras.callbacks import ModelCheckpoint"
   ]
  },
  {
   "cell_type": "code",
   "execution_count": null,
   "id": "2f059d24-d934-4829-b24b-296032ccdfa6",
   "metadata": {},
   "outputs": [],
   "source": [
    "# Create dataframe\n",
    "z = urlopen('https://archive.ics.uci.edu/ml/machine-learning-databases/00296/dataset_diabetes.zip')\n",
    "myzip = ZipFile(BytesIO(z.read())).extract('dataset_diabetes/diabetic_data.csv')\n",
    "df = pd.read_csv(myzip)\n",
    "df.head(5)"
   ]
  },
  {
   "cell_type": "code",
   "execution_count": null,
   "id": "b34b6689-2de7-46a0-8c05-5e01c01e99e7",
   "metadata": {},
   "outputs": [],
   "source": [
    "# Drop the non-beneficial ID column 'patient_nbr'\n",
    "df = df.drop(['patient_nbr'],1)\n",
    "\n",
    "# Drop mostly empty columns, 'weight', 'payer_code', 'max_glu_serum', and 'medical_specialty'\n",
    "df = df.drop(['weight', 'payer_code', 'max_glu_serum', 'medical_specialty'],1)\n",
    "\n",
    "# Replace '?' values to nulls\n",
    "df.replace({'?': np.nan}, inplace=True)\n",
    "\n",
    "# Replace 'None' values to nulls\n",
    "df.replace({'None': np.nan}, inplace=True)\n",
    "\n",
    "# Drop the null rows\n",
    "df = df.dropna()"
   ]
  },
  {
   "cell_type": "code",
   "execution_count": null,
   "id": "5150ac9f-2499-4067-93d8-f243e9b3cadd",
   "metadata": {},
   "outputs": [],
   "source": [
    "# Convert the target column values to normal and high based on their values\n",
    "x = {'Norm': 'low'}   \n",
    "df = df.replace(x)\n",
    "x = dict.fromkeys(['>7', '>8'], 'high')    \n",
    "df = df.replace(x)\n",
    "df.reset_index(inplace=True, drop=True)"
   ]
  },
  {
   "cell_type": "code",
   "execution_count": null,
   "id": "2d434e63-be18-4cfd-97d3-af27d9bfbe36",
   "metadata": {},
   "outputs": [],
   "source": [
    "# Determine the number of unique values in each column.\n",
    "df.nunique()"
   ]
  },
  {
   "cell_type": "code",
   "execution_count": null,
   "id": "6f34de39-a90e-4fab-9b7d-3b35c2970969",
   "metadata": {},
   "outputs": [],
   "source": [
    "# Drop columns with only 1 value\n",
    "df = df.drop(['acetohexamide', 'troglitazone', 'examide', 'citoglipton','glimepiride-pioglitazone', 'metformin-rosiglitazone', 'metformin-pioglitazone'],1)\n",
    "df.nunique()"
   ]
  },
  {
   "cell_type": "code",
   "execution_count": null,
   "id": "8dce5967-bb76-4019-9a80-5712e678997a",
   "metadata": {},
   "outputs": [],
   "source": [
    "# Create SQLite engine using SQLAlechmey\n",
    "engine = create_engine('sqlite:///diabetes_data.db', echo=False)\n",
    "conn = engine.connect()\n",
    "df.to_sql('diabetes', conn, index=False, if_exists='replace')"
   ]
  },
  {
   "cell_type": "code",
   "execution_count": null,
   "id": "fb54b0c5-f1ec-418f-bd34-9782aa9ec869",
   "metadata": {},
   "outputs": [],
   "source": [
    "# Check dataset\n",
    "pd.read_sql('SELECT * FROM diabetes LIMIT 10', conn)"
   ]
  },
  {
   "cell_type": "code",
   "execution_count": null,
   "id": "7d687295-a1c8-45f2-82a4-ed4d2ee978c1",
   "metadata": {},
   "outputs": [],
   "source": [
    "# Create cleanup table\n",
    "engine.execute('CREATE TABLE \"cleaned_columns\" ('\n",
    "               'id BIGINT NOT NULL,'\n",
    "               'A1Cresultc INT, '\n",
    "               'diag_1c VARCHAR, '\n",
    "               'diag_2c VARCHAR, '\n",
    "               'diag_3c VARCHAR, '\n",
    "               'PRIMARY KEY (id));')"
   ]
  },
  {
   "cell_type": "code",
   "execution_count": null,
   "id": "2baa17a3-0639-4095-96d8-212b61e2d6e7",
   "metadata": {},
   "outputs": [],
   "source": [
    "# Insert columns into new table to clean\n",
    "engine.execute('INSERT INTO \"cleaned_columns\" '\n",
    "               'SELECT encounter_id AS id, '\n",
    "               'CASE '\n",
    "                   'WHEN A1Cresult = \"high\" THEN 1 '\n",
    "                   'ELSE 0 '\n",
    "               'END AS A1Cresultc, '\n",
    "               'CASE '\n",
    "                   'WHEN (diag_1 BETWEEN 390 AND 459) OR (diag_1 = 785) THEN \"circulatory\" '\n",
    "                   'WHEN (diag_1 BETWEEN 460 AND 519) OR (diag_1 = 786) THEN \"respiratory\" '\n",
    "                   'WHEN (diag_1 BETWEEN 520 AND 579) OR (diag_1 = 787) THEN \"digestive\" '\n",
    "                   'WHEN (diag_1 BETWEEN 250 AND 251) THEN \"diabetes\" '\n",
    "                   'WHEN (diag_1 BETWEEN 800 AND 999) THEN \"injury\" '\n",
    "                   'WHEN (diag_1 BETWEEN 710 AND 739) THEN \"musculoskeletal\" '\n",
    "                   'WHEN (diag_1 BETWEEN 580 AND 629) OR (diag_1 = 788) THEN \"genitourinary\" '\n",
    "                   'WHEN (diag_1 BETWEEN 140 AND 239) THEN \"neoplasms\" '\n",
    "                   'ELSE \"other\" '\n",
    "               'END AS diag_1c, '\n",
    "               'CASE '\n",
    "                   'WHEN (diag_2 BETWEEN 390 AND 459) OR (diag_2 = 785) THEN \"circulatory\" '\n",
    "                   'WHEN (diag_2 BETWEEN 460 AND 519) OR (diag_2 = 786) THEN \"respiratory\" '\n",
    "                   'WHEN (diag_2 BETWEEN 520 AND 579) OR (diag_2 = 787) THEN \"digestive\" '\n",
    "                   'WHEN (diag_2 BETWEEN 250 AND 251) THEN \"diabetes\" '\n",
    "                   'WHEN (diag_2 BETWEEN 800 AND 999) THEN \"injury\" '\n",
    "                   'WHEN (diag_2 BETWEEN 710 AND 739) THEN \"musculoskeletal\" '\n",
    "                   'WHEN (diag_2 BETWEEN 580 AND 629) OR (diag_2 = 788) THEN \"genitourinary\" '\n",
    "                   'WHEN (diag_2 BETWEEN 140 AND 239) THEN \"neoplasms\" '\n",
    "                   'ELSE \"other\" '\n",
    "               'END AS diag_2c, '\n",
    "               'CASE '\n",
    "                   'WHEN (diag_3 BETWEEN 390 AND 459) OR (diag_3 = 785) THEN \"circulatory\" '\n",
    "                   'WHEN (diag_3 BETWEEN 460 AND 519) OR (diag_3 = 786) THEN \"respiratory\" '\n",
    "                   'WHEN (diag_3 BETWEEN 520 AND 579) OR (diag_3 = 787) THEN \"digestive\" '\n",
    "                   'WHEN (diag_3 BETWEEN 250 AND 251) THEN \"diabetes\" '\n",
    "                   'WHEN (diag_3 BETWEEN 800 AND 999) THEN \"injury\" '\n",
    "                   'WHEN (diag_3 BETWEEN 710 AND 739) THEN \"musculoskeletal\" '\n",
    "                   'WHEN (diag_3 BETWEEN 580 AND 629) OR (diag_3 = 788) THEN \"genitourinary\" '\n",
    "                   'WHEN (diag_3 BETWEEN 140 AND 239) THEN \"neoplasms\" '\n",
    "                   'ELSE \"other\" '\n",
    "               'END AS diag_3c '\n",
    "               'FROM diabetes;')"
   ]
  },
  {
   "cell_type": "code",
   "execution_count": null,
   "id": "de2c0d00-6500-4082-bdb1-ce4322f45f19",
   "metadata": {},
   "outputs": [],
   "source": [
    "# Check data\n",
    "pd.read_sql('SELECT * FROM cleaned_columns LIMIT 10', conn)"
   ]
  },
  {
   "cell_type": "code",
   "execution_count": null,
   "id": "67cd1561-96e4-4d96-81d6-f3f6a40f1a14",
   "metadata": {},
   "outputs": [],
   "source": [
    "# Join diabetes and cleaned_columns tables\n",
    "diabetes_df = pd.read_sql('SELECT * FROM diabetes JOIN cleaned_columns ON diabetes.encounter_id = cleaned_columns.id', conn)"
   ]
  },
  {
   "cell_type": "code",
   "execution_count": null,
   "id": "9662abc0-26cd-46b5-92c0-87e6d18022be",
   "metadata": {},
   "outputs": [],
   "source": [
    "diabetes_df.dtypes"
   ]
  },
  {
   "cell_type": "code",
   "execution_count": null,
   "id": "9eb0b0eb-6343-4e8c-b184-5143ca70f75b",
   "metadata": {},
   "outputs": [],
   "source": [
    "# Close SQLite connection\n",
    "conn.close()"
   ]
  },
  {
   "cell_type": "code",
   "execution_count": null,
   "id": "d5e9721d-17fe-41a5-98af-5118cc5c156d",
   "metadata": {},
   "outputs": [],
   "source": [
    "# Drop the non-beneficial ID and diag columns, 'encounter_id', 'id', 'A1Cresult', 'diag_1', 'diag_2', and 'diag_3'\n",
    "diabetes_df = diabetes_df.drop(['encounter_id', 'id', 'A1Cresult', 'diag_1', 'diag_2', 'diag_3'],1)"
   ]
  },
  {
   "cell_type": "code",
   "execution_count": null,
   "id": "84836c8c-7356-4dfb-b935-67e2479506fb",
   "metadata": {},
   "outputs": [],
   "source": [
    "# Drop the columns with severe outliers\n",
    "diabetes_df = diabetes_df.drop(['encounter_id', 'id', 'A1Cresult', 'diag_1', 'diag_2', 'diag_3'],1)"
   ]
  },
  {
   "cell_type": "code",
   "execution_count": null,
   "id": "a646e0a2-6872-4aa2-9a56-2c6145291caa",
   "metadata": {},
   "outputs": [],
   "source": [
    "# Check data\n",
    "diabetes_df.dtypes"
   ]
  },
  {
   "cell_type": "code",
   "execution_count": null,
   "id": "75d0c142-e02e-48e1-8ab7-58ca40ac4280",
   "metadata": {},
   "outputs": [],
   "source": [
    "# Generate our categorical variable lists\n",
    "diabetes_cat = diabetes_df.dtypes[diabetes_df.dtypes == \"object\"].index.tolist()"
   ]
  },
  {
   "cell_type": "code",
   "execution_count": null,
   "id": "65449a97-764f-4296-863d-0861fd73e0b7",
   "metadata": {},
   "outputs": [],
   "source": [
    "# Create a OneHotEncoder instance\n",
    "enc = OneHotEncoder(sparse=False)\n",
    "\n",
    "# Fit and transform the OneHotEncoder using the categorical variable list\n",
    "encode_df = pd.DataFrame(enc.fit_transform(diabetes_df[diabetes_cat]))\n",
    "\n",
    "# Add the encoded variable names to the dataframe\n",
    "encode_df.columns = enc.get_feature_names(diabetes_cat)\n",
    "encode_df.head()"
   ]
  },
  {
   "cell_type": "code",
   "execution_count": null,
   "id": "f752ff2a-66df-4843-951d-4e9e86dfd618",
   "metadata": {},
   "outputs": [],
   "source": [
    "# Merge one-hot encoded features and drop the originals\n",
    "diabetes_df = diabetes_df.merge(encode_df,left_index=True, right_index=True)\n",
    "diabetes_df = diabetes_df.drop(diabetes_cat,1)\n",
    "diabetes_df.head()"
   ]
  },
  {
   "cell_type": "code",
   "execution_count": null,
   "id": "24c5a7e2-4385-4f35-9fdb-562dc1c03259",
   "metadata": {},
   "outputs": [],
   "source": [
    "# Split our preprocessed data into our features and target arrays\n",
    "y = diabetes_df[\"A1Cresultc\"].values\n",
    "X = diabetes_df.drop([\"A1Cresultc\"],1).values\n",
    "\n",
    "# Split the preprocessed data into a training and testing dataset\n",
    "X_train, X_test, y_train, y_test = train_test_split(X, y, random_state=42)"
   ]
  },
  {
   "cell_type": "code",
   "execution_count": null,
   "id": "41d4b6f5-32e7-4c97-ad01-22fd366ae89d",
   "metadata": {},
   "outputs": [],
   "source": [
    "# Create a StandardScaler instances\n",
    "scaler = StandardScaler()\n",
    "\n",
    "# Fit the StandardScaler\n",
    "X_scaler = scaler.fit(X_train)\n",
    "\n",
    "# Scale the data\n",
    "X_train_scaled = X_scaler.transform(X_train)\n",
    "X_test_scaled = X_scaler.transform(X_test)"
   ]
  },
  {
   "cell_type": "code",
   "execution_count": null,
   "id": "130de144-e493-44e9-9766-72b8e1099571",
   "metadata": {},
   "outputs": [],
   "source": [
    "# Define the model - deep neural net, i.e., the number of input features and hidden nodes for each layer.\n",
    "number_input_features = len(X_train[0])\n",
    "hidden_nodes_layer1 =  (len(X_train[0])*3)\n",
    "hidden_nodes_layer2 =  (len(X_train[0])*2)\n",
    "hidden_nodes_layer3 = len(X_train[0])\n",
    "\n",
    "nn = tf.keras.models.Sequential()\n",
    "\n",
    "# First hidden layer\n",
    "nn.add(\n",
    "    tf.keras.layers.Dense(units=hidden_nodes_layer1, input_dim=number_input_features, activation=\"relu\")\n",
    ")\n",
    "\n",
    "# Second hidden layer\n",
    "nn.add(tf.keras.layers.Dense(units=hidden_nodes_layer2, activation=\"relu\"))\n",
    "\n",
    "# Third hidden layer\n",
    "nn.add(tf.keras.layers.Dense(units=hidden_nodes_layer3, activation=\"relu\"))\n",
    "\n",
    "# Output layer\n",
    "nn.add(tf.keras.layers.Dense(units=1, activation=\"sigmoid\"))\n",
    "\n",
    "# Check the structure of the model\n",
    "nn.summary()"
   ]
  },
  {
   "cell_type": "code",
   "execution_count": null,
   "id": "6e93ca5b-6a70-4d74-8d4d-6cee52586354",
   "metadata": {},
   "outputs": [],
   "source": [
    "# Define the checkpoint path and filenames\n",
    "os.makedirs(\"checkpoints/\",exist_ok=True)\n",
    "checkpoint_path = \"checkpoints/weights.{epoch:02d}.hdf5\""
   ]
  },
  {
   "cell_type": "code",
   "execution_count": null,
   "id": "19c88488-9c1d-447f-8497-0320e13fbb45",
   "metadata": {},
   "outputs": [],
   "source": [
    "# Compile the model\n",
    "nn.compile(loss=\"binary_crossentropy\", optimizer=\"adam\", metrics=[\"accuracy\"])\n",
    "\n",
    "# Create a callback that saves the model's weights every epoch\n",
    "cp_callback = ModelCheckpoint(\n",
    "    filepath=checkpoint_path,\n",
    "    verbose=1,\n",
    "    save_weights_only=True,\n",
    "    save_freq=5)"
   ]
  },
  {
   "cell_type": "code",
   "execution_count": null,
   "id": "920b7b51-b6f1-47aa-b592-acefa5b2caba",
   "metadata": {},
   "outputs": [],
   "source": [
    "# Train the model\n",
    "fit_model = nn.fit(X_train_scaled, y_train, epochs=100)"
   ]
  },
  {
   "cell_type": "code",
   "execution_count": null,
   "id": "bb224f7b-a48d-4eb6-892d-c0cd8d0c0b4c",
   "metadata": {},
   "outputs": [],
   "source": [
    "# Evaluate the model using the test data\n",
    "model_loss, model_accuracy = nn.evaluate(X_test_scaled,y_test,verbose=2)\n",
    "print(f\"Loss: {model_loss}, Accuracy: {model_accuracy}\")"
   ]
  },
  {
   "cell_type": "code",
   "execution_count": null,
   "id": "621738f8-5e92-4ad3-ac5e-2185cf571a73",
   "metadata": {},
   "outputs": [],
   "source": [
    "# Export our model to HDF5 file\n",
    "nn.save(\"Diabetes.h5\")"
   ]
  },
  {
   "cell_type": "code",
   "execution_count": null,
   "id": "6e4ded55-d1c9-4ae8-9feb-d38659492dc7",
   "metadata": {},
   "outputs": [],
   "source": []
  }
 ],
 "metadata": {
  "kernelspec": {
   "display_name": "Python 3 (ipykernel)",
   "language": "python",
   "name": "python3"
  },
  "language_info": {
   "codemirror_mode": {
    "name": "ipython",
    "version": 3
   },
   "file_extension": ".py",
   "mimetype": "text/x-python",
   "name": "python",
   "nbconvert_exporter": "python",
   "pygments_lexer": "ipython3",
   "version": "3.9.5"
  }
 },
 "nbformat": 4,
 "nbformat_minor": 5
}
